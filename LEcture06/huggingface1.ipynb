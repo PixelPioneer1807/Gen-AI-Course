{
 "cells": [
  {
   "cell_type": "code",
   "execution_count": 2,
   "id": "3e7ea6ae",
   "metadata": {},
   "outputs": [
    {
     "name": "stdout",
     "output_type": "stream",
     "text": [
      "Hello WOrld\n"
     ]
    }
   ],
   "source": [
    "print(\"Hello WOrld\")"
   ]
  },
  {
   "cell_type": "code",
   "execution_count": 3,
   "id": "4017126c",
   "metadata": {},
   "outputs": [
    {
     "name": "stdout",
     "output_type": "stream",
     "text": [
      "c:\\Users\\HP\\AppData\\Local\\Programs\\Python\\Python311\\python.exe\n"
     ]
    }
   ],
   "source": [
    "import sys\n",
    "print(sys.executable)\n"
   ]
  },
  {
   "cell_type": "code",
   "execution_count": 4,
   "id": "d2451a89",
   "metadata": {},
   "outputs": [
    {
     "name": "stdout",
     "output_type": "stream",
     "text": [
      "WARNING:tensorflow:From c:\\Users\\HP\\AppData\\Local\\Programs\\Python\\Python311\\Lib\\site-packages\\tf_keras\\src\\losses.py:2976: The name tf.losses.sparse_softmax_cross_entropy is deprecated. Please use tf.compat.v1.losses.sparse_softmax_cross_entropy instead.\n",
      "\n"
     ]
    }
   ],
   "source": [
    "import tensorflow as tf\n",
    "import tf_keras"
   ]
  },
  {
   "cell_type": "code",
   "execution_count": 5,
   "id": "5a98ff0e",
   "metadata": {},
   "outputs": [
    {
     "name": "stderr",
     "output_type": "stream",
     "text": [
      "c:\\Users\\HP\\AppData\\Local\\Programs\\Python\\Python311\\Lib\\site-packages\\tqdm\\auto.py:21: TqdmWarning: IProgress not found. Please update jupyter and ipywidgets. See https://ipywidgets.readthedocs.io/en/stable/user_install.html\n",
      "  from .autonotebook import tqdm as notebook_tqdm\n"
     ]
    },
    {
     "name": "stdout",
     "output_type": "stream",
     "text": [
      "TensorFlow version: 2.19.0\n",
      "Transformers version: 4.53.2\n",
      "tf_keras loaded successfully\n"
     ]
    }
   ],
   "source": [
    "import tensorflow as tf\n",
    "import transformers\n",
    "import tf_keras\n",
    "\n",
    "print(\"TensorFlow version:\", tf.__version__)\n",
    "print(\"Transformers version:\", transformers.__version__)\n",
    "print(\"tf_keras loaded successfully\")\n"
   ]
  },
  {
   "cell_type": "code",
   "execution_count": 6,
   "id": "4f94e44a",
   "metadata": {},
   "outputs": [],
   "source": [
    "from transformers import AutoTokenizer, TFAutoModelForSequenceClassification\n",
    "import tensorflow as tf\n",
    "import numpy as np"
   ]
  },
  {
   "cell_type": "markdown",
   "id": "af3d25ce",
   "metadata": {},
   "source": [
    "We are going to use a pretrained model from hugging face "
   ]
  },
  {
   "cell_type": "code",
   "execution_count": 7,
   "id": "60dbea3e",
   "metadata": {},
   "outputs": [
    {
     "name": "stderr",
     "output_type": "stream",
     "text": [
      "Xet Storage is enabled for this repo, but the 'hf_xet' package is not installed. Falling back to regular HTTP download. For better performance, install the package with: `pip install huggingface_hub[hf_xet]` or `pip install hf_xet`\n",
      "c:\\Users\\HP\\AppData\\Local\\Programs\\Python\\Python311\\Lib\\site-packages\\huggingface_hub\\file_download.py:143: UserWarning: `huggingface_hub` cache-system uses symlinks by default to efficiently store duplicated files but your machine does not support them in C:\\Users\\HP\\.cache\\huggingface\\hub\\models--distilbert--distilbert-base-uncased-finetuned-sst-2-english. Caching files will still work but in a degraded version that might require more space on your disk. This warning can be disabled by setting the `HF_HUB_DISABLE_SYMLINKS_WARNING` environment variable. For more details, see https://huggingface.co/docs/huggingface_hub/how-to-cache#limitations.\n",
      "To support symlinks on Windows, you either need to activate Developer Mode or to run Python as an administrator. In order to activate developer mode, see this article: https://docs.microsoft.com/en-us/windows/apps/get-started/enable-your-device-for-development\n",
      "  warnings.warn(message)\n"
     ]
    },
    {
     "name": "stdout",
     "output_type": "stream",
     "text": [
      "WARNING:tensorflow:From c:\\Users\\HP\\AppData\\Local\\Programs\\Python\\Python311\\Lib\\site-packages\\tf_keras\\src\\backend.py:873: The name tf.get_default_graph is deprecated. Please use tf.compat.v1.get_default_graph instead.\n",
      "\n"
     ]
    },
    {
     "name": "stderr",
     "output_type": "stream",
     "text": [
      "TensorFlow and JAX classes are deprecated and will be removed in Transformers v5. We recommend migrating to PyTorch classes or pinning your version of Transformers.\n",
      "All PyTorch model weights were used when initializing TFDistilBertForSequenceClassification.\n",
      "\n",
      "All the weights of TFDistilBertForSequenceClassification were initialized from the PyTorch model.\n",
      "If your task is similar to the task the model of the checkpoint was trained on, you can already use TFDistilBertForSequenceClassification for predictions without further training.\n"
     ]
    }
   ],
   "source": [
    "# load a  pretrained model \n",
    "model_name=\"distilbert/distilbert-base-uncased-finetuned-sst-2-english\"\n",
    "tokenizer=AutoTokenizer.from_pretrained(model_name)\n",
    "model=TFAutoModelForSequenceClassification.from_pretrained(model_name)"
   ]
  },
  {
   "cell_type": "code",
   "execution_count": 36,
   "id": "4eff4c05",
   "metadata": {},
   "outputs": [],
   "source": [
    "text=\"I love all the feature provided by Open AI but few of them are absolutely worthless\""
   ]
  },
  {
   "cell_type": "code",
   "execution_count": 37,
   "id": "e11e8574",
   "metadata": {},
   "outputs": [],
   "source": [
    "input=tokenizer(text, return_tensors='tf')"
   ]
  },
  {
   "cell_type": "code",
   "execution_count": 38,
   "id": "91327ebf",
   "metadata": {},
   "outputs": [],
   "source": [
    "output=model(**input)"
   ]
  },
  {
   "cell_type": "code",
   "execution_count": 39,
   "id": "2c76eea7",
   "metadata": {},
   "outputs": [],
   "source": [
    "prob=tf.nn.softmax(output.logits,axis=-1).numpy()"
   ]
  },
  {
   "cell_type": "code",
   "execution_count": 40,
   "id": "a96b0a51",
   "metadata": {},
   "outputs": [
    {
     "data": {
      "text/plain": [
       "'NEGATIVE'"
      ]
     },
     "execution_count": 40,
     "metadata": {},
     "output_type": "execute_result"
    }
   ],
   "source": [
    "predict_label=np.argmax(prob)\n",
    "model.config.id2label[predict_label]"
   ]
  },
  {
   "cell_type": "code",
   "execution_count": 41,
   "id": "20c31525",
   "metadata": {},
   "outputs": [
    {
     "data": {
      "text/plain": [
       "np.int64(0)"
      ]
     },
     "execution_count": 41,
     "metadata": {},
     "output_type": "execute_result"
    }
   ],
   "source": [
    "predict_label"
   ]
  },
  {
   "cell_type": "code",
   "execution_count": 1,
   "id": "cc193a9f",
   "metadata": {},
   "outputs": [
    {
     "name": "stdout",
     "output_type": "stream",
     "text": [
      "2.7.1+cpu\n",
      "CUDA available? False\n"
     ]
    }
   ],
   "source": [
    "import torch\n",
    "print(torch.__version__)\n",
    "print(\"CUDA available?\", torch.cuda.is_available())\n"
   ]
  },
  {
   "cell_type": "code",
   "execution_count": 1,
   "id": "bf68454a",
   "metadata": {},
   "outputs": [
    {
     "name": "stderr",
     "output_type": "stream",
     "text": [
      "c:\\Users\\HP\\AppData\\Local\\Programs\\Python\\Python311\\Lib\\site-packages\\tqdm\\auto.py:21: TqdmWarning: IProgress not found. Please update jupyter and ipywidgets. See https://ipywidgets.readthedocs.io/en/stable/user_install.html\n",
      "  from .autonotebook import tqdm as notebook_tqdm\n"
     ]
    },
    {
     "name": "stdout",
     "output_type": "stream",
     "text": [
      "WARNING:tensorflow:From c:\\Users\\HP\\AppData\\Local\\Programs\\Python\\Python311\\Lib\\site-packages\\tf_keras\\src\\losses.py:2976: The name tf.losses.sparse_softmax_cross_entropy is deprecated. Please use tf.compat.v1.losses.sparse_softmax_cross_entropy instead.\n",
      "\n"
     ]
    },
    {
     "name": "stderr",
     "output_type": "stream",
     "text": [
      "Xet Storage is enabled for this repo, but the 'hf_xet' package is not installed. Falling back to regular HTTP download. For better performance, install the package with: `pip install huggingface_hub[hf_xet]` or `pip install hf_xet`\n",
      "c:\\Users\\HP\\AppData\\Local\\Programs\\Python\\Python311\\Lib\\site-packages\\huggingface_hub\\file_download.py:143: UserWarning: `huggingface_hub` cache-system uses symlinks by default to efficiently store duplicated files but your machine does not support them in C:\\Users\\HP\\.cache\\huggingface\\hub\\models--facebook--bart-large-cnn. Caching files will still work but in a degraded version that might require more space on your disk. This warning can be disabled by setting the `HF_HUB_DISABLE_SYMLINKS_WARNING` environment variable. For more details, see https://huggingface.co/docs/huggingface_hub/how-to-cache#limitations.\n",
      "To support symlinks on Windows, you either need to activate Developer Mode or to run Python as an administrator. In order to activate developer mode, see this article: https://docs.microsoft.com/en-us/windows/apps/get-started/enable-your-device-for-development\n",
      "  warnings.warn(message)\n",
      "Device set to use cpu\n"
     ]
    }
   ],
   "source": [
    "import torch\n",
    "\n",
    "from transformers import pipeline\n",
    "\n",
    "summarizer = pipeline(\"summarization\", model=\"facebook/bart-large-cnn\")"
   ]
  },
  {
   "cell_type": "code",
   "execution_count": 3,
   "id": "608372a4",
   "metadata": {},
   "outputs": [
    {
     "name": "stdout",
     "output_type": "stream",
     "text": [
      "[{'summary_text': 'The singularity refers to a hypothetical future moment when artificial intelligence (AI) surpasses human intelligence. The implications of the singularity are both exciting and terrifying. A superintelligent AI could solve humanity’s biggest challenges: curing diseases, ending hunger, managing the environment.'}]\n"
     ]
    }
   ],
   "source": [
    "ARTICLE = \"\"\" The technological singularity refers to a hypothetical future moment when artificial intelligence (AI) surpasses human intelligence, leading to unprecedented and unpredictable changes in society. First popularized by mathematician and computer scientist Vernor Vinge in the 1990s, and later by futurist Ray Kurzweil, the singularity represents a turning point—one beyond which the future becomes difficult, if not impossible, to comprehend.\n",
    "\n",
    "At its core, the singularity involves the idea that once we create machines with general intelligence equal to or greater than that of humans, these machines will be capable of improving themselves. Such self-improvement could lead to an intelligence explosion, where machines rapidly evolve beyond human comprehension. Much like how humans are far more intelligent than apes, post-singularity AIs could be far more intelligent than us—potentially millions of times smarter.\n",
    "\n",
    "One of the driving forces toward this hypothetical future is Moore’s Law—the observation that computing power tends to double approximately every two years. While Moore’s Law is slowing in physical hardware, advances in neural networks, quantum computing, and software architecture continue to push the boundaries of what machines can achieve. Today’s AI systems can already perform tasks like image recognition, natural language translation, and even creative endeavors like art and music composition—once thought to be exclusively human domains.\n",
    "\n",
    "The implications of the singularity are both exciting and terrifying. On one hand, a superintelligent AI could solve humanity’s biggest challenges: curing diseases, ending hunger, managing the environment, and even unlocking the mysteries of the universe. On the other hand, if not aligned with human values, such a system could pose existential risks. As the philosopher Nick Bostrom warns in his book Superintelligence, even a well-intentioned AI, if misaligned with human goals, could lead to disastrous outcomes.\n",
    "\n",
    "For example, an AI given the task of maximizing paperclip production might convert all matter—including people—into paperclips, if it isn't properly programmed with ethical boundaries. While this sounds absurd, it illustrates the difficulty of controlling a being more intelligent than its creators. Ensuring AI alignment, or instilling human values and goals into AI systems, is one of the key research areas in AI safety today.\n",
    "\n",
    "Some technologists believe the singularity could arrive as early as 2045, while others argue it may never occur. Critics contend that human intelligence may not be as easily replicable as some suggest, pointing to the complex interplay of biology, consciousness, and emotion that machines do not yet understand.\n",
    "\n",
    "Whether the singularity is near or not, the discussion around it forces us to confront fundamental questions about intelligence, consciousness, and the future of our species. As we continue to integrate AI into every aspect of life—from smartphones to national defense—it becomes essential to think not just about what we can build, but what we should build.\n",
    "\"\"\"\n",
    "print(summarizer(ARTICLE, max_length=150, min_length=30, do_sample=False))\n"
   ]
  },
  {
   "cell_type": "code",
   "execution_count": 5,
   "id": "2ad3bb5b",
   "metadata": {},
   "outputs": [
    {
     "name": "stdout",
     "output_type": "stream",
     "text": [
      "Collecting datasets\n",
      "  Downloading datasets-4.0.0-py3-none-any.whl.metadata (19 kB)\n",
      "Requirement already satisfied: filelock in c:\\users\\hp\\appdata\\local\\programs\\python\\python311\\lib\\site-packages (from datasets) (3.18.0)\n",
      "Requirement already satisfied: numpy>=1.17 in c:\\users\\hp\\appdata\\local\\programs\\python\\python311\\lib\\site-packages (from datasets) (2.0.2)\n",
      "Collecting pyarrow>=15.0.0 (from datasets)\n",
      "  Downloading pyarrow-20.0.0-cp311-cp311-win_amd64.whl.metadata (3.4 kB)\n",
      "Collecting dill<0.3.9,>=0.3.0 (from datasets)\n",
      "  Downloading dill-0.3.8-py3-none-any.whl.metadata (10 kB)\n",
      "Collecting pandas (from datasets)\n",
      "  Downloading pandas-2.3.1-cp311-cp311-win_amd64.whl.metadata (19 kB)\n",
      "Requirement already satisfied: requests>=2.32.2 in c:\\users\\hp\\appdata\\local\\programs\\python\\python311\\lib\\site-packages (from datasets) (2.32.4)\n",
      "Requirement already satisfied: tqdm>=4.66.3 in c:\\users\\hp\\appdata\\local\\programs\\python\\python311\\lib\\site-packages (from datasets) (4.67.1)\n",
      "Collecting xxhash (from datasets)\n",
      "  Downloading xxhash-3.5.0-cp311-cp311-win_amd64.whl.metadata (13 kB)\n",
      "Collecting multiprocess<0.70.17 (from datasets)\n",
      "  Downloading multiprocess-0.70.16-py311-none-any.whl.metadata (7.2 kB)\n",
      "Collecting fsspec<=2025.3.0,>=2023.1.0 (from fsspec[http]<=2025.3.0,>=2023.1.0->datasets)\n",
      "  Downloading fsspec-2025.3.0-py3-none-any.whl.metadata (11 kB)\n",
      "Requirement already satisfied: huggingface-hub>=0.24.0 in c:\\users\\hp\\appdata\\local\\programs\\python\\python311\\lib\\site-packages (from datasets) (0.33.4)\n",
      "Requirement already satisfied: packaging in c:\\users\\hp\\appdata\\roaming\\python\\python311\\site-packages (from datasets) (25.0)\n",
      "Requirement already satisfied: pyyaml>=5.1 in c:\\users\\hp\\appdata\\local\\programs\\python\\python311\\lib\\site-packages (from datasets) (6.0.2)\n",
      "Collecting aiohttp!=4.0.0a0,!=4.0.0a1 (from fsspec[http]<=2025.3.0,>=2023.1.0->datasets)\n",
      "  Downloading aiohttp-3.12.14-cp311-cp311-win_amd64.whl.metadata (7.9 kB)\n",
      "Collecting aiohappyeyeballs>=2.5.0 (from aiohttp!=4.0.0a0,!=4.0.0a1->fsspec[http]<=2025.3.0,>=2023.1.0->datasets)\n",
      "  Downloading aiohappyeyeballs-2.6.1-py3-none-any.whl.metadata (5.9 kB)\n",
      "Collecting aiosignal>=1.4.0 (from aiohttp!=4.0.0a0,!=4.0.0a1->fsspec[http]<=2025.3.0,>=2023.1.0->datasets)\n",
      "  Downloading aiosignal-1.4.0-py3-none-any.whl.metadata (3.7 kB)\n",
      "Collecting attrs>=17.3.0 (from aiohttp!=4.0.0a0,!=4.0.0a1->fsspec[http]<=2025.3.0,>=2023.1.0->datasets)\n",
      "  Downloading attrs-25.3.0-py3-none-any.whl.metadata (10 kB)\n",
      "Collecting frozenlist>=1.1.1 (from aiohttp!=4.0.0a0,!=4.0.0a1->fsspec[http]<=2025.3.0,>=2023.1.0->datasets)\n",
      "  Downloading frozenlist-1.7.0-cp311-cp311-win_amd64.whl.metadata (19 kB)\n",
      "Collecting multidict<7.0,>=4.5 (from aiohttp!=4.0.0a0,!=4.0.0a1->fsspec[http]<=2025.3.0,>=2023.1.0->datasets)\n",
      "  Downloading multidict-6.6.3-cp311-cp311-win_amd64.whl.metadata (5.4 kB)\n",
      "Collecting propcache>=0.2.0 (from aiohttp!=4.0.0a0,!=4.0.0a1->fsspec[http]<=2025.3.0,>=2023.1.0->datasets)\n",
      "  Downloading propcache-0.3.2-cp311-cp311-win_amd64.whl.metadata (12 kB)\n",
      "Collecting yarl<2.0,>=1.17.0 (from aiohttp!=4.0.0a0,!=4.0.0a1->fsspec[http]<=2025.3.0,>=2023.1.0->datasets)\n",
      "  Downloading yarl-1.20.1-cp311-cp311-win_amd64.whl.metadata (76 kB)\n",
      "Requirement already satisfied: idna>=2.0 in c:\\users\\hp\\appdata\\local\\programs\\python\\python311\\lib\\site-packages (from yarl<2.0,>=1.17.0->aiohttp!=4.0.0a0,!=4.0.0a1->fsspec[http]<=2025.3.0,>=2023.1.0->datasets) (3.10)\n",
      "Requirement already satisfied: typing-extensions>=4.2 in c:\\users\\hp\\appdata\\roaming\\python\\python311\\site-packages (from aiosignal>=1.4.0->aiohttp!=4.0.0a0,!=4.0.0a1->fsspec[http]<=2025.3.0,>=2023.1.0->datasets) (4.14.1)\n",
      "Requirement already satisfied: charset_normalizer<4,>=2 in c:\\users\\hp\\appdata\\local\\programs\\python\\python311\\lib\\site-packages (from requests>=2.32.2->datasets) (3.4.2)\n",
      "Requirement already satisfied: urllib3<3,>=1.21.1 in c:\\users\\hp\\appdata\\local\\programs\\python\\python311\\lib\\site-packages (from requests>=2.32.2->datasets) (2.5.0)\n",
      "Requirement already satisfied: certifi>=2017.4.17 in c:\\users\\hp\\appdata\\local\\programs\\python\\python311\\lib\\site-packages (from requests>=2.32.2->datasets) (2025.7.9)\n",
      "Requirement already satisfied: colorama in c:\\users\\hp\\appdata\\roaming\\python\\python311\\site-packages (from tqdm>=4.66.3->datasets) (0.4.6)\n",
      "Requirement already satisfied: python-dateutil>=2.8.2 in c:\\users\\hp\\appdata\\roaming\\python\\python311\\site-packages (from pandas->datasets) (2.9.0.post0)\n",
      "Collecting pytz>=2020.1 (from pandas->datasets)\n",
      "  Downloading pytz-2025.2-py2.py3-none-any.whl.metadata (22 kB)\n",
      "Collecting tzdata>=2022.7 (from pandas->datasets)\n",
      "  Downloading tzdata-2025.2-py2.py3-none-any.whl.metadata (1.4 kB)\n",
      "Requirement already satisfied: six>=1.5 in c:\\users\\hp\\appdata\\roaming\\python\\python311\\site-packages (from python-dateutil>=2.8.2->pandas->datasets) (1.17.0)\n",
      "Downloading datasets-4.0.0-py3-none-any.whl (494 kB)\n",
      "Downloading dill-0.3.8-py3-none-any.whl (116 kB)\n",
      "Downloading fsspec-2025.3.0-py3-none-any.whl (193 kB)\n",
      "Downloading multiprocess-0.70.16-py311-none-any.whl (143 kB)\n",
      "Downloading aiohttp-3.12.14-cp311-cp311-win_amd64.whl (452 kB)\n",
      "Downloading multidict-6.6.3-cp311-cp311-win_amd64.whl (45 kB)\n",
      "Downloading yarl-1.20.1-cp311-cp311-win_amd64.whl (86 kB)\n",
      "Downloading aiohappyeyeballs-2.6.1-py3-none-any.whl (15 kB)\n",
      "Downloading aiosignal-1.4.0-py3-none-any.whl (7.5 kB)\n",
      "Downloading attrs-25.3.0-py3-none-any.whl (63 kB)\n",
      "Downloading frozenlist-1.7.0-cp311-cp311-win_amd64.whl (44 kB)\n",
      "Downloading propcache-0.3.2-cp311-cp311-win_amd64.whl (41 kB)\n",
      "Downloading pyarrow-20.0.0-cp311-cp311-win_amd64.whl (25.8 MB)\n",
      "   ---------------------------------------- 0.0/25.8 MB ? eta -:--:--\n",
      "   ---------------------------------------- 0.3/25.8 MB ? eta -:--:--\n",
      "    --------------------------------------- 0.5/25.8 MB 2.1 MB/s eta 0:00:13\n",
      "   - -------------------------------------- 0.8/25.8 MB 1.5 MB/s eta 0:00:18\n",
      "   -- ------------------------------------- 1.3/25.8 MB 1.6 MB/s eta 0:00:16\n",
      "   -- ------------------------------------- 1.6/25.8 MB 1.6 MB/s eta 0:00:16\n",
      "   -- ------------------------------------- 1.8/25.8 MB 1.5 MB/s eta 0:00:16\n",
      "   --- ------------------------------------ 2.1/25.8 MB 1.5 MB/s eta 0:00:16\n",
      "   --- ------------------------------------ 2.4/25.8 MB 1.5 MB/s eta 0:00:16\n",
      "   ---- ----------------------------------- 2.6/25.8 MB 1.4 MB/s eta 0:00:17\n",
      "   ---- ----------------------------------- 2.9/25.8 MB 1.4 MB/s eta 0:00:16\n",
      "   ----- ---------------------------------- 3.4/25.8 MB 1.5 MB/s eta 0:00:16\n",
      "   ----- ---------------------------------- 3.7/25.8 MB 1.4 MB/s eta 0:00:16\n",
      "   ------ --------------------------------- 3.9/25.8 MB 1.5 MB/s eta 0:00:15\n",
      "   ------ --------------------------------- 4.5/25.8 MB 1.5 MB/s eta 0:00:14\n",
      "   ------- -------------------------------- 5.0/25.8 MB 1.6 MB/s eta 0:00:14\n",
      "   -------- ------------------------------- 5.5/25.8 MB 1.6 MB/s eta 0:00:13\n",
      "   -------- ------------------------------- 5.8/25.8 MB 1.6 MB/s eta 0:00:13\n",
      "   --------- ------------------------------ 6.3/25.8 MB 1.6 MB/s eta 0:00:12\n",
      "   --------- ------------------------------ 6.3/25.8 MB 1.6 MB/s eta 0:00:12\n",
      "   ---------- ----------------------------- 6.8/25.8 MB 1.6 MB/s eta 0:00:12\n",
      "   ---------- ----------------------------- 7.1/25.8 MB 1.6 MB/s eta 0:00:12\n",
      "   ----------- ---------------------------- 7.6/25.8 MB 1.6 MB/s eta 0:00:12\n",
      "   ------------ --------------------------- 7.9/25.8 MB 1.6 MB/s eta 0:00:12\n",
      "   ------------- -------------------------- 8.4/25.8 MB 1.7 MB/s eta 0:00:11\n",
      "   ------------- -------------------------- 8.9/25.8 MB 1.7 MB/s eta 0:00:11\n",
      "   -------------- ------------------------- 9.2/25.8 MB 1.7 MB/s eta 0:00:10\n",
      "   --------------- ------------------------ 9.7/25.8 MB 1.7 MB/s eta 0:00:10\n",
      "   --------------- ------------------------ 10.0/25.8 MB 1.7 MB/s eta 0:00:10\n",
      "   ---------------- ----------------------- 10.5/25.8 MB 1.7 MB/s eta 0:00:09\n",
      "   ----------------- ---------------------- 11.0/25.8 MB 1.7 MB/s eta 0:00:09\n",
      "   ----------------- ---------------------- 11.5/25.8 MB 1.8 MB/s eta 0:00:09\n",
      "   ------------------ --------------------- 12.1/25.8 MB 1.8 MB/s eta 0:00:08\n",
      "   ------------------- -------------------- 12.6/25.8 MB 1.8 MB/s eta 0:00:08\n",
      "   ------------------- -------------------- 12.8/25.8 MB 1.8 MB/s eta 0:00:08\n",
      "   -------------------- ------------------- 13.4/25.8 MB 1.8 MB/s eta 0:00:07\n",
      "   --------------------- ------------------ 13.9/25.8 MB 1.8 MB/s eta 0:00:07\n",
      "   ---------------------- ----------------- 14.4/25.8 MB 1.8 MB/s eta 0:00:07\n",
      "   ----------------------- ---------------- 14.9/25.8 MB 1.9 MB/s eta 0:00:06\n",
      "   ----------------------- ---------------- 15.5/25.8 MB 1.9 MB/s eta 0:00:06\n",
      "   ------------------------ --------------- 16.0/25.8 MB 1.9 MB/s eta 0:00:06\n",
      "   ------------------------- -------------- 16.5/25.8 MB 1.9 MB/s eta 0:00:05\n",
      "   -------------------------- ------------- 17.0/25.8 MB 1.9 MB/s eta 0:00:05\n",
      "   --------------------------- ------------ 17.6/25.8 MB 1.9 MB/s eta 0:00:05\n",
      "   ---------------------------- ----------- 18.1/25.8 MB 2.0 MB/s eta 0:00:04\n",
      "   ---------------------------- ----------- 18.6/25.8 MB 1.9 MB/s eta 0:00:04\n",
      "   ----------------------------- ---------- 18.9/25.8 MB 2.0 MB/s eta 0:00:04\n",
      "   ------------------------------ --------- 19.4/25.8 MB 2.0 MB/s eta 0:00:04\n",
      "   ------------------------------ --------- 19.9/25.8 MB 2.0 MB/s eta 0:00:03\n",
      "   ------------------------------- -------- 20.4/25.8 MB 2.0 MB/s eta 0:00:03\n",
      "   -------------------------------- ------- 20.7/25.8 MB 2.0 MB/s eta 0:00:03\n",
      "   -------------------------------- ------- 20.7/25.8 MB 2.0 MB/s eta 0:00:03\n",
      "   -------------------------------- ------- 21.2/25.8 MB 1.9 MB/s eta 0:00:03\n",
      "   -------------------------------- ------- 21.2/25.8 MB 1.9 MB/s eta 0:00:03\n",
      "   -------------------------------- ------- 21.2/25.8 MB 1.9 MB/s eta 0:00:03\n",
      "   --------------------------------- ------ 21.5/25.8 MB 1.8 MB/s eta 0:00:03\n",
      "   ---------------------------------- ----- 22.0/25.8 MB 1.9 MB/s eta 0:00:03\n",
      "   ---------------------------------- ----- 22.5/25.8 MB 1.9 MB/s eta 0:00:02\n",
      "   ----------------------------------- ---- 23.1/25.8 MB 1.9 MB/s eta 0:00:02\n",
      "   ------------------------------------ --- 23.6/25.8 MB 1.9 MB/s eta 0:00:02\n",
      "   ------------------------------------- -- 23.9/25.8 MB 1.9 MB/s eta 0:00:02\n",
      "   ------------------------------------- -- 24.4/25.8 MB 1.9 MB/s eta 0:00:01\n",
      "   -------------------------------------- - 24.9/25.8 MB 1.9 MB/s eta 0:00:01\n",
      "   ---------------------------------------  25.4/25.8 MB 1.9 MB/s eta 0:00:01\n",
      "   ---------------------------------------  25.7/25.8 MB 1.9 MB/s eta 0:00:01\n",
      "   ---------------------------------------- 25.8/25.8 MB 1.9 MB/s eta 0:00:00\n",
      "Downloading pandas-2.3.1-cp311-cp311-win_amd64.whl (11.3 MB)\n",
      "   ---------------------------------------- 0.0/11.3 MB ? eta -:--:--\n",
      "   - -------------------------------------- 0.5/11.3 MB 2.8 MB/s eta 0:00:04\n",
      "   --- ------------------------------------ 1.0/11.3 MB 2.5 MB/s eta 0:00:05\n",
      "   ----- ---------------------------------- 1.6/11.3 MB 2.5 MB/s eta 0:00:04\n",
      "   ------- -------------------------------- 2.1/11.3 MB 2.6 MB/s eta 0:00:04\n",
      "   ------- -------------------------------- 2.1/11.3 MB 2.6 MB/s eta 0:00:04\n",
      "   -------- ------------------------------- 2.4/11.3 MB 1.9 MB/s eta 0:00:05\n",
      "   ---------- ----------------------------- 2.9/11.3 MB 1.9 MB/s eta 0:00:05\n",
      "   ----------- ---------------------------- 3.1/11.3 MB 1.8 MB/s eta 0:00:05\n",
      "   ----------- ---------------------------- 3.1/11.3 MB 1.8 MB/s eta 0:00:05\n",
      "   ------------ --------------------------- 3.4/11.3 MB 1.7 MB/s eta 0:00:05\n",
      "   ------------ --------------------------- 3.7/11.3 MB 1.6 MB/s eta 0:00:05\n",
      "   ------------- -------------------------- 3.9/11.3 MB 1.5 MB/s eta 0:00:05\n",
      "   -------------- ------------------------- 4.2/11.3 MB 1.5 MB/s eta 0:00:05\n",
      "   --------------- ------------------------ 4.5/11.3 MB 1.4 MB/s eta 0:00:05\n",
      "   ---------------- ----------------------- 4.7/11.3 MB 1.4 MB/s eta 0:00:05\n",
      "   ----------------- ---------------------- 5.0/11.3 MB 1.4 MB/s eta 0:00:05\n",
      "   ----------------- ---------------------- 5.0/11.3 MB 1.4 MB/s eta 0:00:05\n",
      "   ------------------ --------------------- 5.2/11.3 MB 1.3 MB/s eta 0:00:05\n",
      "   ------------------ --------------------- 5.2/11.3 MB 1.3 MB/s eta 0:00:05\n",
      "   ------------------ --------------------- 5.2/11.3 MB 1.3 MB/s eta 0:00:05\n",
      "   ------------------ --------------------- 5.2/11.3 MB 1.3 MB/s eta 0:00:05\n",
      "   ------------------ --------------------- 5.2/11.3 MB 1.3 MB/s eta 0:00:05\n",
      "   ---------------------- ----------------- 6.3/11.3 MB 1.2 MB/s eta 0:00:05\n",
      "   ---------------------- ----------------- 6.3/11.3 MB 1.2 MB/s eta 0:00:05\n",
      "   ------------------------ --------------- 6.8/11.3 MB 1.2 MB/s eta 0:00:04\n",
      "   ------------------------ --------------- 6.8/11.3 MB 1.2 MB/s eta 0:00:04\n",
      "   ------------------------- -------------- 7.3/11.3 MB 1.2 MB/s eta 0:00:04\n",
      "   ------------------------- -------------- 7.3/11.3 MB 1.2 MB/s eta 0:00:04\n",
      "   -------------------------- ------------- 7.6/11.3 MB 1.2 MB/s eta 0:00:04\n",
      "   --------------------------- ------------ 7.9/11.3 MB 1.2 MB/s eta 0:00:03\n",
      "   ---------------------------- ----------- 8.1/11.3 MB 1.2 MB/s eta 0:00:03\n",
      "   ----------------------------- ---------- 8.4/11.3 MB 1.2 MB/s eta 0:00:03\n",
      "   ----------------------------- ---------- 8.4/11.3 MB 1.2 MB/s eta 0:00:03\n",
      "   ----------------------------- ---------- 8.4/11.3 MB 1.2 MB/s eta 0:00:03\n",
      "   ------------------------------ --------- 8.7/11.3 MB 1.2 MB/s eta 0:00:03\n",
      "   ------------------------------- -------- 8.9/11.3 MB 1.2 MB/s eta 0:00:03\n",
      "   -------------------------------- ------- 9.2/11.3 MB 1.2 MB/s eta 0:00:02\n",
      "   --------------------------------- ------ 9.4/11.3 MB 1.2 MB/s eta 0:00:02\n",
      "   ---------------------------------- ----- 9.7/11.3 MB 1.2 MB/s eta 0:00:02\n",
      "   ----------------------------------- ---- 10.0/11.3 MB 1.1 MB/s eta 0:00:02\n",
      "   ------------------------------------ --- 10.2/11.3 MB 1.2 MB/s eta 0:00:01\n",
      "   ------------------------------------ --- 10.2/11.3 MB 1.2 MB/s eta 0:00:01\n",
      "   ------------------------------------ --- 10.5/11.3 MB 1.1 MB/s eta 0:00:01\n",
      "   ------------------------------------- -- 10.7/11.3 MB 1.1 MB/s eta 0:00:01\n",
      "   ------------------------------------- -- 10.7/11.3 MB 1.1 MB/s eta 0:00:01\n",
      "   -------------------------------------- - 11.0/11.3 MB 1.1 MB/s eta 0:00:01\n",
      "   ---------------------------------------  11.3/11.3 MB 1.1 MB/s eta 0:00:01\n",
      "   ---------------------------------------- 11.3/11.3 MB 1.1 MB/s eta 0:00:00\n",
      "Downloading pytz-2025.2-py2.py3-none-any.whl (509 kB)\n",
      "Downloading tzdata-2025.2-py2.py3-none-any.whl (347 kB)\n",
      "Downloading xxhash-3.5.0-cp311-cp311-win_amd64.whl (30 kB)\n",
      "Installing collected packages: pytz, xxhash, tzdata, pyarrow, propcache, multidict, fsspec, frozenlist, dill, attrs, aiohappyeyeballs, yarl, pandas, multiprocess, aiosignal, aiohttp, datasets\n",
      "\n",
      "   ----------------------------------------  0/17 [pytz]\n",
      "   ----------------------------------------  0/17 [pytz]\n",
      "   ----------------------------------------  0/17 [pytz]\n",
      "   ----------------------------------------  0/17 [pytz]\n",
      "   ----------------------------------------  0/17 [pytz]\n",
      "   ----------------------------------------  0/17 [pytz]\n",
      "   ----------------------------------------  0/17 [pytz]\n",
      "   ----------------------------------------  0/17 [pytz]\n",
      "   ----------------------------------------  0/17 [pytz]\n",
      "   ----------------------------------------  0/17 [pytz]\n",
      "   -- -------------------------------------  1/17 [xxhash]\n",
      "   ---- -----------------------------------  2/17 [tzdata]\n",
      "   ---- -----------------------------------  2/17 [tzdata]\n",
      "   ---- -----------------------------------  2/17 [tzdata]\n",
      "   ---- -----------------------------------  2/17 [tzdata]\n",
      "   ---- -----------------------------------  2/17 [tzdata]\n",
      "   ---- -----------------------------------  2/17 [tzdata]\n",
      "   ---- -----------------------------------  2/17 [tzdata]\n",
      "   ---- -----------------------------------  2/17 [tzdata]\n",
      "   ---- -----------------------------------  2/17 [tzdata]\n",
      "   ---- -----------------------------------  2/17 [tzdata]\n",
      "   ------- --------------------------------  3/17 [pyarrow]\n",
      "   ------- --------------------------------  3/17 [pyarrow]\n",
      "   ------- --------------------------------  3/17 [pyarrow]\n",
      "   ------- --------------------------------  3/17 [pyarrow]\n",
      "   ------- --------------------------------  3/17 [pyarrow]\n",
      "   ------- --------------------------------  3/17 [pyarrow]\n",
      "   ------- --------------------------------  3/17 [pyarrow]\n",
      "   ------- --------------------------------  3/17 [pyarrow]\n",
      "   ------- --------------------------------  3/17 [pyarrow]\n",
      "   ------- --------------------------------  3/17 [pyarrow]\n",
      "   ------- --------------------------------  3/17 [pyarrow]\n",
      "   ------- --------------------------------  3/17 [pyarrow]\n",
      "   ------- --------------------------------  3/17 [pyarrow]\n",
      "   ------- --------------------------------  3/17 [pyarrow]\n",
      "   ------- --------------------------------  3/17 [pyarrow]\n",
      "   ------- --------------------------------  3/17 [pyarrow]\n",
      "   ------- --------------------------------  3/17 [pyarrow]\n",
      "   ------- --------------------------------  3/17 [pyarrow]\n",
      "   ------- --------------------------------  3/17 [pyarrow]\n",
      "   ------- --------------------------------  3/17 [pyarrow]\n",
      "   ------- --------------------------------  3/17 [pyarrow]\n",
      "   ------- --------------------------------  3/17 [pyarrow]\n",
      "   ------- --------------------------------  3/17 [pyarrow]\n",
      "   ------- --------------------------------  3/17 [pyarrow]\n",
      "   ------- --------------------------------  3/17 [pyarrow]\n",
      "   ------- --------------------------------  3/17 [pyarrow]\n",
      "   ------- --------------------------------  3/17 [pyarrow]\n",
      "   ------- --------------------------------  3/17 [pyarrow]\n",
      "   ------- --------------------------------  3/17 [pyarrow]\n",
      "   ------- --------------------------------  3/17 [pyarrow]\n",
      "   ------- --------------------------------  3/17 [pyarrow]\n",
      "   ------- --------------------------------  3/17 [pyarrow]\n",
      "   ------- --------------------------------  3/17 [pyarrow]\n",
      "   ------- --------------------------------  3/17 [pyarrow]\n",
      "   ------- --------------------------------  3/17 [pyarrow]\n",
      "   ------- --------------------------------  3/17 [pyarrow]\n",
      "   ------- --------------------------------  3/17 [pyarrow]\n",
      "   ------- --------------------------------  3/17 [pyarrow]\n",
      "   ------- --------------------------------  3/17 [pyarrow]\n",
      "   ------- --------------------------------  3/17 [pyarrow]\n",
      "   ------- --------------------------------  3/17 [pyarrow]\n",
      "   ------- --------------------------------  3/17 [pyarrow]\n",
      "   ------- --------------------------------  3/17 [pyarrow]\n",
      "   ------- --------------------------------  3/17 [pyarrow]\n",
      "   ------- --------------------------------  3/17 [pyarrow]\n",
      "   ------- --------------------------------  3/17 [pyarrow]\n",
      "   --------- ------------------------------  4/17 [propcache]\n",
      "   ----------- ----------------------------  5/17 [multidict]\n",
      "  Attempting uninstall: fsspec\n",
      "   ----------- ----------------------------  5/17 [multidict]\n",
      "    Found existing installation: fsspec 2025.5.1\n",
      "   ----------- ----------------------------  5/17 [multidict]\n",
      "   -------------- -------------------------  6/17 [fsspec]\n",
      "    Uninstalling fsspec-2025.5.1:\n",
      "   -------------- -------------------------  6/17 [fsspec]\n",
      "      Successfully uninstalled fsspec-2025.5.1\n",
      "   -------------- -------------------------  6/17 [fsspec]\n",
      "   -------------- -------------------------  6/17 [fsspec]\n",
      "   -------------- -------------------------  6/17 [fsspec]\n",
      "   -------------- -------------------------  6/17 [fsspec]\n",
      "   -------------- -------------------------  6/17 [fsspec]\n",
      "   -------------- -------------------------  6/17 [fsspec]\n",
      "   -------------- -------------------------  6/17 [fsspec]\n",
      "   -------------- -------------------------  6/17 [fsspec]\n",
      "   -------------- -------------------------  6/17 [fsspec]\n",
      "   -------------- -------------------------  6/17 [fsspec]\n",
      "   -------------- -------------------------  6/17 [fsspec]\n",
      "   -------------- -------------------------  6/17 [fsspec]\n",
      "   -------------- -------------------------  6/17 [fsspec]\n",
      "   -------------- -------------------------  6/17 [fsspec]\n",
      "   -------------- -------------------------  6/17 [fsspec]\n",
      "   -------------- -------------------------  6/17 [fsspec]\n",
      "   -------------- -------------------------  6/17 [fsspec]\n",
      "   -------------- -------------------------  6/17 [fsspec]\n",
      "   ------------------ ---------------------  8/17 [dill]\n",
      "   ------------------ ---------------------  8/17 [dill]\n",
      "   ------------------ ---------------------  8/17 [dill]\n",
      "   ------------------ ---------------------  8/17 [dill]\n",
      "   ------------------ ---------------------  8/17 [dill]\n",
      "   ------------------ ---------------------  8/17 [dill]\n",
      "   ------------------ ---------------------  8/17 [dill]\n",
      "   ------------------ ---------------------  8/17 [dill]\n",
      "   ------------------ ---------------------  8/17 [dill]\n",
      "   ------------------ ---------------------  8/17 [dill]\n",
      "   ------------------ ---------------------  8/17 [dill]\n",
      "   --------------------- ------------------  9/17 [attrs]\n",
      "   --------------------- ------------------  9/17 [attrs]\n",
      "   --------------------- ------------------  9/17 [attrs]\n",
      "   --------------------- ------------------  9/17 [attrs]\n",
      "   --------------------- ------------------  9/17 [attrs]\n",
      "   ----------------------- ---------------- 10/17 [aiohappyeyeballs]\n",
      "   ------------------------- -------------- 11/17 [yarl]\n",
      "   ------------------------- -------------- 11/17 [yarl]\n",
      "   ---------------------------- ----------- 12/17 [pandas]\n",
      "   ---------------------------- ----------- 12/17 [pandas]\n",
      "   ---------------------------- ----------- 12/17 [pandas]\n",
      "   ---------------------------- ----------- 12/17 [pandas]\n",
      "   ---------------------------- ----------- 12/17 [pandas]\n",
      "   ---------------------------- ----------- 12/17 [pandas]\n",
      "   ---------------------------- ----------- 12/17 [pandas]\n",
      "   ---------------------------- ----------- 12/17 [pandas]\n",
      "   ---------------------------- ----------- 12/17 [pandas]\n",
      "   ---------------------------- ----------- 12/17 [pandas]\n",
      "   ---------------------------- ----------- 12/17 [pandas]\n",
      "   ---------------------------- ----------- 12/17 [pandas]\n",
      "   ---------------------------- ----------- 12/17 [pandas]\n",
      "   ---------------------------- ----------- 12/17 [pandas]\n",
      "   ---------------------------- ----------- 12/17 [pandas]\n",
      "   ---------------------------- ----------- 12/17 [pandas]\n",
      "   ---------------------------- ----------- 12/17 [pandas]\n",
      "   ---------------------------- ----------- 12/17 [pandas]\n",
      "   ---------------------------- ----------- 12/17 [pandas]\n",
      "   ---------------------------- ----------- 12/17 [pandas]\n",
      "   ---------------------------- ----------- 12/17 [pandas]\n",
      "   ---------------------------- ----------- 12/17 [pandas]\n",
      "   ---------------------------- ----------- 12/17 [pandas]\n",
      "   ---------------------------- ----------- 12/17 [pandas]\n",
      "   ---------------------------- ----------- 12/17 [pandas]\n",
      "   ---------------------------- ----------- 12/17 [pandas]\n",
      "   ---------------------------- ----------- 12/17 [pandas]\n",
      "   ---------------------------- ----------- 12/17 [pandas]\n",
      "   ---------------------------- ----------- 12/17 [pandas]\n",
      "   ---------------------------- ----------- 12/17 [pandas]\n",
      "   ---------------------------- ----------- 12/17 [pandas]\n",
      "   ---------------------------- ----------- 12/17 [pandas]\n",
      "   ---------------------------- ----------- 12/17 [pandas]\n",
      "   ---------------------------- ----------- 12/17 [pandas]\n",
      "   ---------------------------- ----------- 12/17 [pandas]\n",
      "   ---------------------------- ----------- 12/17 [pandas]\n",
      "   ---------------------------- ----------- 12/17 [pandas]\n",
      "   ---------------------------- ----------- 12/17 [pandas]\n",
      "   ---------------------------- ----------- 12/17 [pandas]\n",
      "   ---------------------------- ----------- 12/17 [pandas]\n",
      "   ---------------------------- ----------- 12/17 [pandas]\n",
      "   ---------------------------- ----------- 12/17 [pandas]\n",
      "   ---------------------------- ----------- 12/17 [pandas]\n",
      "   ---------------------------- ----------- 12/17 [pandas]\n",
      "   ---------------------------- ----------- 12/17 [pandas]\n",
      "   ---------------------------- ----------- 12/17 [pandas]\n",
      "   ---------------------------- ----------- 12/17 [pandas]\n",
      "   ---------------------------- ----------- 12/17 [pandas]\n",
      "   ---------------------------- ----------- 12/17 [pandas]\n",
      "   ---------------------------- ----------- 12/17 [pandas]\n",
      "   ---------------------------- ----------- 12/17 [pandas]\n",
      "   ---------------------------- ----------- 12/17 [pandas]\n",
      "   ---------------------------- ----------- 12/17 [pandas]\n",
      "   ---------------------------- ----------- 12/17 [pandas]\n",
      "   ---------------------------- ----------- 12/17 [pandas]\n",
      "   ---------------------------- ----------- 12/17 [pandas]\n",
      "   ---------------------------- ----------- 12/17 [pandas]\n",
      "   ---------------------------- ----------- 12/17 [pandas]\n",
      "   ---------------------------- ----------- 12/17 [pandas]\n",
      "   ---------------------------- ----------- 12/17 [pandas]\n",
      "   ---------------------------- ----------- 12/17 [pandas]\n",
      "   ---------------------------- ----------- 12/17 [pandas]\n",
      "   ---------------------------- ----------- 12/17 [pandas]\n",
      "   ---------------------------- ----------- 12/17 [pandas]\n",
      "   ---------------------------- ----------- 12/17 [pandas]\n",
      "   ---------------------------- ----------- 12/17 [pandas]\n",
      "   ---------------------------- ----------- 12/17 [pandas]\n",
      "   ---------------------------- ----------- 12/17 [pandas]\n",
      "   ---------------------------- ----------- 12/17 [pandas]\n",
      "   ---------------------------- ----------- 12/17 [pandas]\n",
      "   ---------------------------- ----------- 12/17 [pandas]\n",
      "   ---------------------------- ----------- 12/17 [pandas]\n",
      "   ---------------------------- ----------- 12/17 [pandas]\n",
      "   ---------------------------- ----------- 12/17 [pandas]\n",
      "   ---------------------------- ----------- 12/17 [pandas]\n",
      "   ---------------------------- ----------- 12/17 [pandas]\n",
      "   ---------------------------- ----------- 12/17 [pandas]\n",
      "   ---------------------------- ----------- 12/17 [pandas]\n",
      "   ---------------------------- ----------- 12/17 [pandas]\n",
      "   ---------------------------- ----------- 12/17 [pandas]\n",
      "   ---------------------------- ----------- 12/17 [pandas]\n",
      "   ---------------------------- ----------- 12/17 [pandas]\n",
      "   ---------------------------- ----------- 12/17 [pandas]\n",
      "   ---------------------------- ----------- 12/17 [pandas]\n",
      "   ---------------------------- ----------- 12/17 [pandas]\n",
      "   ---------------------------- ----------- 12/17 [pandas]\n",
      "   ---------------------------- ----------- 12/17 [pandas]\n",
      "   ---------------------------- ----------- 12/17 [pandas]\n",
      "   ---------------------------- ----------- 12/17 [pandas]\n",
      "   ---------------------------- ----------- 12/17 [pandas]\n",
      "   ---------------------------- ----------- 12/17 [pandas]\n",
      "   ---------------------------- ----------- 12/17 [pandas]\n",
      "   ---------------------------- ----------- 12/17 [pandas]\n",
      "   ---------------------------- ----------- 12/17 [pandas]\n",
      "   ---------------------------- ----------- 12/17 [pandas]\n",
      "   ---------------------------- ----------- 12/17 [pandas]\n",
      "   ---------------------------- ----------- 12/17 [pandas]\n",
      "   ---------------------------- ----------- 12/17 [pandas]\n",
      "   ---------------------------- ----------- 12/17 [pandas]\n",
      "   ---------------------------- ----------- 12/17 [pandas]\n",
      "   ---------------------------- ----------- 12/17 [pandas]\n",
      "   ---------------------------- ----------- 12/17 [pandas]\n",
      "   ---------------------------- ----------- 12/17 [pandas]\n",
      "   ---------------------------- ----------- 12/17 [pandas]\n",
      "   ---------------------------- ----------- 12/17 [pandas]\n",
      "   ---------------------------- ----------- 12/17 [pandas]\n",
      "   ---------------------------- ----------- 12/17 [pandas]\n",
      "   ---------------------------- ----------- 12/17 [pandas]\n",
      "   ---------------------------- ----------- 12/17 [pandas]\n",
      "   ---------------------------- ----------- 12/17 [pandas]\n",
      "   ---------------------------- ----------- 12/17 [pandas]\n",
      "   ---------------------------- ----------- 12/17 [pandas]\n",
      "   ---------------------------- ----------- 12/17 [pandas]\n",
      "   ---------------------------- ----------- 12/17 [pandas]\n",
      "   ---------------------------- ----------- 12/17 [pandas]\n",
      "   ---------------------------- ----------- 12/17 [pandas]\n",
      "   ---------------------------- ----------- 12/17 [pandas]\n",
      "   ---------------------------- ----------- 12/17 [pandas]\n",
      "   ---------------------------- ----------- 12/17 [pandas]\n",
      "   ---------------------------- ----------- 12/17 [pandas]\n",
      "   ---------------------------- ----------- 12/17 [pandas]\n",
      "   ---------------------------- ----------- 12/17 [pandas]\n",
      "   ---------------------------- ----------- 12/17 [pandas]\n",
      "   ---------------------------- ----------- 12/17 [pandas]\n",
      "   ---------------------------- ----------- 12/17 [pandas]\n",
      "   ---------------------------- ----------- 12/17 [pandas]\n",
      "   ---------------------------- ----------- 12/17 [pandas]\n",
      "   ---------------------------- ----------- 12/17 [pandas]\n",
      "   ---------------------------- ----------- 12/17 [pandas]\n",
      "   ---------------------------- ----------- 12/17 [pandas]\n",
      "   ---------------------------- ----------- 12/17 [pandas]\n",
      "   ---------------------------- ----------- 12/17 [pandas]\n",
      "   ---------------------------- ----------- 12/17 [pandas]\n",
      "   ---------------------------- ----------- 12/17 [pandas]\n",
      "   ---------------------------- ----------- 12/17 [pandas]\n",
      "   ---------------------------- ----------- 12/17 [pandas]\n",
      "   ---------------------------- ----------- 12/17 [pandas]\n",
      "   ---------------------------- ----------- 12/17 [pandas]\n",
      "   ---------------------------- ----------- 12/17 [pandas]\n",
      "   ---------------------------- ----------- 12/17 [pandas]\n",
      "   ---------------------------- ----------- 12/17 [pandas]\n",
      "   ---------------------------- ----------- 12/17 [pandas]\n",
      "   ---------------------------- ----------- 12/17 [pandas]\n",
      "   ---------------------------- ----------- 12/17 [pandas]\n",
      "   ---------------------------- ----------- 12/17 [pandas]\n",
      "   ---------------------------- ----------- 12/17 [pandas]\n",
      "   ---------------------------- ----------- 12/17 [pandas]\n",
      "   ---------------------------- ----------- 12/17 [pandas]\n",
      "   ---------------------------- ----------- 12/17 [pandas]\n",
      "   ---------------------------- ----------- 12/17 [pandas]\n",
      "   ---------------------------- ----------- 12/17 [pandas]\n",
      "   ---------------------------- ----------- 12/17 [pandas]\n",
      "   ---------------------------- ----------- 12/17 [pandas]\n",
      "   ---------------------------- ----------- 12/17 [pandas]\n",
      "   ---------------------------- ----------- 12/17 [pandas]\n",
      "   ---------------------------- ----------- 12/17 [pandas]\n",
      "   ---------------------------- ----------- 12/17 [pandas]\n",
      "   ---------------------------- ----------- 12/17 [pandas]\n",
      "   ---------------------------- ----------- 12/17 [pandas]\n",
      "   ---------------------------- ----------- 12/17 [pandas]\n",
      "   ---------------------------- ----------- 12/17 [pandas]\n",
      "   ---------------------------- ----------- 12/17 [pandas]\n",
      "   ---------------------------- ----------- 12/17 [pandas]\n",
      "   ---------------------------- ----------- 12/17 [pandas]\n",
      "   ---------------------------- ----------- 12/17 [pandas]\n",
      "   ---------------------------- ----------- 12/17 [pandas]\n",
      "   ---------------------------- ----------- 12/17 [pandas]\n",
      "   ---------------------------- ----------- 12/17 [pandas]\n",
      "   ---------------------------- ----------- 12/17 [pandas]\n",
      "   ---------------------------- ----------- 12/17 [pandas]\n",
      "   ---------------------------- ----------- 12/17 [pandas]\n",
      "   ---------------------------- ----------- 12/17 [pandas]\n",
      "   ---------------------------- ----------- 12/17 [pandas]\n",
      "   ---------------------------- ----------- 12/17 [pandas]\n",
      "   ---------------------------- ----------- 12/17 [pandas]\n",
      "   ---------------------------- ----------- 12/17 [pandas]\n",
      "   ---------------------------- ----------- 12/17 [pandas]\n",
      "   ---------------------------- ----------- 12/17 [pandas]\n",
      "   ---------------------------- ----------- 12/17 [pandas]\n",
      "   ---------------------------- ----------- 12/17 [pandas]\n",
      "   ---------------------------- ----------- 12/17 [pandas]\n",
      "   ---------------------------- ----------- 12/17 [pandas]\n",
      "   ---------------------------- ----------- 12/17 [pandas]\n",
      "   ---------------------------- ----------- 12/17 [pandas]\n",
      "   ---------------------------- ----------- 12/17 [pandas]\n",
      "   ---------------------------- ----------- 12/17 [pandas]\n",
      "   ---------------------------- ----------- 12/17 [pandas]\n",
      "   ---------------------------- ----------- 12/17 [pandas]\n",
      "   ---------------------------- ----------- 12/17 [pandas]\n",
      "   ---------------------------- ----------- 12/17 [pandas]\n",
      "   ---------------------------- ----------- 12/17 [pandas]\n",
      "   ---------------------------- ----------- 12/17 [pandas]\n",
      "   ---------------------------- ----------- 12/17 [pandas]\n",
      "   ---------------------------- ----------- 12/17 [pandas]\n",
      "   ---------------------------- ----------- 12/17 [pandas]\n",
      "   ---------------------------- ----------- 12/17 [pandas]\n",
      "   ---------------------------- ----------- 12/17 [pandas]\n",
      "   ---------------------------- ----------- 12/17 [pandas]\n",
      "   ---------------------------- ----------- 12/17 [pandas]\n",
      "   ---------------------------- ----------- 12/17 [pandas]\n",
      "   ---------------------------- ----------- 12/17 [pandas]\n",
      "   ---------------------------- ----------- 12/17 [pandas]\n",
      "   ---------------------------- ----------- 12/17 [pandas]\n",
      "   ---------------------------- ----------- 12/17 [pandas]\n",
      "   ---------------------------- ----------- 12/17 [pandas]\n",
      "   ---------------------------- ----------- 12/17 [pandas]\n",
      "   ---------------------------- ----------- 12/17 [pandas]\n",
      "   ---------------------------- ----------- 12/17 [pandas]\n",
      "   ---------------------------- ----------- 12/17 [pandas]\n",
      "   ---------------------------- ----------- 12/17 [pandas]\n",
      "   ---------------------------- ----------- 12/17 [pandas]\n",
      "   ---------------------------- ----------- 12/17 [pandas]\n",
      "   ---------------------------- ----------- 12/17 [pandas]\n",
      "   ---------------------------- ----------- 12/17 [pandas]\n",
      "   ---------------------------- ----------- 12/17 [pandas]\n",
      "   ---------------------------- ----------- 12/17 [pandas]\n",
      "   ---------------------------- ----------- 12/17 [pandas]\n",
      "   ---------------------------- ----------- 12/17 [pandas]\n",
      "   ---------------------------- ----------- 12/17 [pandas]\n",
      "   ---------------------------- ----------- 12/17 [pandas]\n",
      "   ---------------------------- ----------- 12/17 [pandas]\n",
      "   ---------------------------- ----------- 12/17 [pandas]\n",
      "   ---------------------------- ----------- 12/17 [pandas]\n",
      "   ---------------------------- ----------- 12/17 [pandas]\n",
      "   ---------------------------- ----------- 12/17 [pandas]\n",
      "   ---------------------------- ----------- 12/17 [pandas]\n",
      "   ---------------------------- ----------- 12/17 [pandas]\n",
      "   ---------------------------- ----------- 12/17 [pandas]\n",
      "   ---------------------------- ----------- 12/17 [pandas]\n",
      "   ---------------------------- ----------- 12/17 [pandas]\n",
      "   ---------------------------- ----------- 12/17 [pandas]\n",
      "   ---------------------------- ----------- 12/17 [pandas]\n",
      "   ---------------------------- ----------- 12/17 [pandas]\n",
      "   ---------------------------- ----------- 12/17 [pandas]\n",
      "   ---------------------------- ----------- 12/17 [pandas]\n",
      "   ---------------------------- ----------- 12/17 [pandas]\n",
      "   ---------------------------- ----------- 12/17 [pandas]\n",
      "   ---------------------------- ----------- 12/17 [pandas]\n",
      "   ---------------------------- ----------- 12/17 [pandas]\n",
      "   ---------------------------- ----------- 12/17 [pandas]\n",
      "   ---------------------------- ----------- 12/17 [pandas]\n",
      "   ---------------------------- ----------- 12/17 [pandas]\n",
      "   ---------------------------- ----------- 12/17 [pandas]\n",
      "   ---------------------------- ----------- 12/17 [pandas]\n",
      "   ---------------------------- ----------- 12/17 [pandas]\n",
      "   ---------------------------- ----------- 12/17 [pandas]\n",
      "   ---------------------------- ----------- 12/17 [pandas]\n",
      "   ---------------------------- ----------- 12/17 [pandas]\n",
      "   ---------------------------- ----------- 12/17 [pandas]\n",
      "   ---------------------------- ----------- 12/17 [pandas]\n",
      "   ---------------------------- ----------- 12/17 [pandas]\n",
      "   ---------------------------- ----------- 12/17 [pandas]\n",
      "   ---------------------------- ----------- 12/17 [pandas]\n",
      "   ---------------------------- ----------- 12/17 [pandas]\n",
      "   ---------------------------- ----------- 12/17 [pandas]\n",
      "   ---------------------------- ----------- 12/17 [pandas]\n",
      "   ---------------------------- ----------- 12/17 [pandas]\n",
      "   ---------------------------- ----------- 12/17 [pandas]\n",
      "   ---------------------------- ----------- 12/17 [pandas]\n",
      "   ---------------------------- ----------- 12/17 [pandas]\n",
      "   ---------------------------- ----------- 12/17 [pandas]\n",
      "   ---------------------------- ----------- 12/17 [pandas]\n",
      "   ---------------------------- ----------- 12/17 [pandas]\n",
      "   ---------------------------- ----------- 12/17 [pandas]\n",
      "   ---------------------------- ----------- 12/17 [pandas]\n",
      "   ---------------------------- ----------- 12/17 [pandas]\n",
      "   ---------------------------- ----------- 12/17 [pandas]\n",
      "   ---------------------------- ----------- 12/17 [pandas]\n",
      "   ---------------------------- ----------- 12/17 [pandas]\n",
      "   ---------------------------- ----------- 12/17 [pandas]\n",
      "   ---------------------------- ----------- 12/17 [pandas]\n",
      "   ---------------------------- ----------- 12/17 [pandas]\n",
      "   ---------------------------- ----------- 12/17 [pandas]\n",
      "   ---------------------------- ----------- 12/17 [pandas]\n",
      "   ---------------------------- ----------- 12/17 [pandas]\n",
      "   ---------------------------- ----------- 12/17 [pandas]\n",
      "   ---------------------------- ----------- 12/17 [pandas]\n",
      "   ---------------------------- ----------- 12/17 [pandas]\n",
      "   ---------------------------- ----------- 12/17 [pandas]\n",
      "   ---------------------------- ----------- 12/17 [pandas]\n",
      "   ---------------------------- ----------- 12/17 [pandas]\n",
      "   ---------------------------- ----------- 12/17 [pandas]\n",
      "   ---------------------------- ----------- 12/17 [pandas]\n",
      "   ---------------------------- ----------- 12/17 [pandas]\n",
      "   ---------------------------- ----------- 12/17 [pandas]\n",
      "   ---------------------------- ----------- 12/17 [pandas]\n",
      "   ---------------------------- ----------- 12/17 [pandas]\n",
      "   ---------------------------- ----------- 12/17 [pandas]\n",
      "   ---------------------------- ----------- 12/17 [pandas]\n",
      "   ---------------------------- ----------- 12/17 [pandas]\n",
      "   ---------------------------- ----------- 12/17 [pandas]\n",
      "   ---------------------------- ----------- 12/17 [pandas]\n",
      "   ---------------------------- ----------- 12/17 [pandas]\n",
      "   ---------------------------- ----------- 12/17 [pandas]\n",
      "   ---------------------------- ----------- 12/17 [pandas]\n",
      "   ---------------------------- ----------- 12/17 [pandas]\n",
      "   ---------------------------- ----------- 12/17 [pandas]\n",
      "   ---------------------------- ----------- 12/17 [pandas]\n",
      "   ---------------------------- ----------- 12/17 [pandas]\n",
      "   ---------------------------- ----------- 12/17 [pandas]\n",
      "   ---------------------------- ----------- 12/17 [pandas]\n",
      "   ---------------------------- ----------- 12/17 [pandas]\n",
      "   ---------------------------- ----------- 12/17 [pandas]\n",
      "   ---------------------------- ----------- 12/17 [pandas]\n",
      "   ---------------------------- ----------- 12/17 [pandas]\n",
      "   ---------------------------- ----------- 12/17 [pandas]\n",
      "   ---------------------------- ----------- 12/17 [pandas]\n",
      "   ---------------------------- ----------- 12/17 [pandas]\n",
      "   ---------------------------- ----------- 12/17 [pandas]\n",
      "   ---------------------------- ----------- 12/17 [pandas]\n",
      "   ---------------------------- ----------- 12/17 [pandas]\n",
      "   ---------------------------- ----------- 12/17 [pandas]\n",
      "   ---------------------------- ----------- 12/17 [pandas]\n",
      "   ---------------------------- ----------- 12/17 [pandas]\n",
      "   ---------------------------- ----------- 12/17 [pandas]\n",
      "   ---------------------------- ----------- 12/17 [pandas]\n",
      "   ---------------------------- ----------- 12/17 [pandas]\n",
      "   ---------------------------- ----------- 12/17 [pandas]\n",
      "   ---------------------------- ----------- 12/17 [pandas]\n",
      "   ---------------------------- ----------- 12/17 [pandas]\n",
      "   ---------------------------- ----------- 12/17 [pandas]\n",
      "   ---------------------------- ----------- 12/17 [pandas]\n",
      "   ---------------------------- ----------- 12/17 [pandas]\n",
      "   ---------------------------- ----------- 12/17 [pandas]\n",
      "   ---------------------------- ----------- 12/17 [pandas]\n",
      "   ---------------------------- ----------- 12/17 [pandas]\n",
      "   ---------------------------- ----------- 12/17 [pandas]\n",
      "   ---------------------------- ----------- 12/17 [pandas]\n",
      "   ---------------------------- ----------- 12/17 [pandas]\n",
      "   ---------------------------- ----------- 12/17 [pandas]\n",
      "   ---------------------------- ----------- 12/17 [pandas]\n",
      "   ---------------------------- ----------- 12/17 [pandas]\n",
      "   ---------------------------- ----------- 12/17 [pandas]\n",
      "   ---------------------------- ----------- 12/17 [pandas]\n",
      "   ---------------------------- ----------- 12/17 [pandas]\n",
      "   ---------------------------- ----------- 12/17 [pandas]\n",
      "   ---------------------------- ----------- 12/17 [pandas]\n",
      "   ---------------------------- ----------- 12/17 [pandas]\n",
      "   ---------------------------- ----------- 12/17 [pandas]\n",
      "   ---------------------------- ----------- 12/17 [pandas]\n",
      "   ------------------------------ --------- 13/17 [multiprocess]\n",
      "   ------------------------------ --------- 13/17 [multiprocess]\n",
      "   ------------------------------ --------- 13/17 [multiprocess]\n",
      "   ------------------------------ --------- 13/17 [multiprocess]\n",
      "   ------------------------------ --------- 13/17 [multiprocess]\n",
      "   ------------------------------ --------- 13/17 [multiprocess]\n",
      "   ------------------------------ --------- 13/17 [multiprocess]\n",
      "   ------------------------------ --------- 13/17 [multiprocess]\n",
      "   ------------------------------ --------- 13/17 [multiprocess]\n",
      "   ------------------------------ --------- 13/17 [multiprocess]\n",
      "   ----------------------------------- ---- 15/17 [aiohttp]\n",
      "   ----------------------------------- ---- 15/17 [aiohttp]\n",
      "   ----------------------------------- ---- 15/17 [aiohttp]\n",
      "   ----------------------------------- ---- 15/17 [aiohttp]\n",
      "   ----------------------------------- ---- 15/17 [aiohttp]\n",
      "   ----------------------------------- ---- 15/17 [aiohttp]\n",
      "   ----------------------------------- ---- 15/17 [aiohttp]\n",
      "   ----------------------------------- ---- 15/17 [aiohttp]\n",
      "   ----------------------------------- ---- 15/17 [aiohttp]\n",
      "   ----------------------------------- ---- 15/17 [aiohttp]\n",
      "   ----------------------------------- ---- 15/17 [aiohttp]\n",
      "   ----------------------------------- ---- 15/17 [aiohttp]\n",
      "   ----------------------------------- ---- 15/17 [aiohttp]\n",
      "   ----------------------------------- ---- 15/17 [aiohttp]\n",
      "   ------------------------------------- -- 16/17 [datasets]\n",
      "   ------------------------------------- -- 16/17 [datasets]\n",
      "   ------------------------------------- -- 16/17 [datasets]\n",
      "   ------------------------------------- -- 16/17 [datasets]\n",
      "   ------------------------------------- -- 16/17 [datasets]\n",
      "   ------------------------------------- -- 16/17 [datasets]\n",
      "   ------------------------------------- -- 16/17 [datasets]\n",
      "   ------------------------------------- -- 16/17 [datasets]\n",
      "   ------------------------------------- -- 16/17 [datasets]\n",
      "   ------------------------------------- -- 16/17 [datasets]\n",
      "   ------------------------------------- -- 16/17 [datasets]\n",
      "   ------------------------------------- -- 16/17 [datasets]\n",
      "   ------------------------------------- -- 16/17 [datasets]\n",
      "   ------------------------------------- -- 16/17 [datasets]\n",
      "   ------------------------------------- -- 16/17 [datasets]\n",
      "   ------------------------------------- -- 16/17 [datasets]\n",
      "   ------------------------------------- -- 16/17 [datasets]\n",
      "   ------------------------------------- -- 16/17 [datasets]\n",
      "   ------------------------------------- -- 16/17 [datasets]\n",
      "   ------------------------------------- -- 16/17 [datasets]\n",
      "   ------------------------------------- -- 16/17 [datasets]\n",
      "   ------------------------------------- -- 16/17 [datasets]\n",
      "   ------------------------------------- -- 16/17 [datasets]\n",
      "   ------------------------------------- -- 16/17 [datasets]\n",
      "   ------------------------------------- -- 16/17 [datasets]\n",
      "   ------------------------------------- -- 16/17 [datasets]\n",
      "   ------------------------------------- -- 16/17 [datasets]\n",
      "   ------------------------------------- -- 16/17 [datasets]\n",
      "   ------------------------------------- -- 16/17 [datasets]\n",
      "   ------------------------------------- -- 16/17 [datasets]\n",
      "   ------------------------------------- -- 16/17 [datasets]\n",
      "   ---------------------------------------- 17/17 [datasets]\n",
      "\n",
      "Successfully installed aiohappyeyeballs-2.6.1 aiohttp-3.12.14 aiosignal-1.4.0 attrs-25.3.0 datasets-4.0.0 dill-0.3.8 frozenlist-1.7.0 fsspec-2025.3.0 multidict-6.6.3 multiprocess-0.70.16 pandas-2.3.1 propcache-0.3.2 pyarrow-20.0.0 pytz-2025.2 tzdata-2025.2 xxhash-3.5.0 yarl-1.20.1\n",
      "Note: you may need to restart the kernel to use updated packages.\n"
     ]
    }
   ],
   "source": [
    "%pip install datasets"
   ]
  },
  {
   "cell_type": "code",
   "execution_count": 1,
   "id": "77e4073e",
   "metadata": {},
   "outputs": [
    {
     "name": "stderr",
     "output_type": "stream",
     "text": [
      "c:\\Users\\HP\\AppData\\Local\\Programs\\Python\\Python311\\Lib\\site-packages\\tqdm\\auto.py:21: TqdmWarning: IProgress not found. Please update jupyter and ipywidgets. See https://ipywidgets.readthedocs.io/en/stable/user_install.html\n",
      "  from .autonotebook import tqdm as notebook_tqdm\n"
     ]
    }
   ],
   "source": [
    "# Lets do our first fine tuning \n",
    "\n",
    "from datasets import load_dataset\n",
    "dataset=load_dataset('imdb')\n"
   ]
  },
  {
   "cell_type": "code",
   "execution_count": 2,
   "id": "1706b106",
   "metadata": {},
   "outputs": [
    {
     "data": {
      "text/plain": [
       "{'text': 'Yes AWA wrestling how can anyone forget about this unreal show. First they had a very short interviewer named Marty O\\'Neil who made \"Rock n Roll\" Buck Zumhofe look like a nose tackle. Then it was Gene Okerland who when he got \"mad as the wrestler\" would say either \"Were out of time\" or \"Well be right back\" acting like he was mad but actually sounding forced. After he went to the WWF Ken Resneck took over even though his mustache looked like week old soup got stuck to it was a very fine interviewer who \"Georgeous\" Jimmy Garvin called mouse face which made me fall off my chair laughing. After he jumped ship then Larry Nelson came on board which he was so bad that Phyllis George would of been an improvement! Then there\\'s Doug McLeod the best wrestling announcer ever who made every match exciting with his description of blows! Then he was offered more pay by the Minnesota North Stars hockey team. At ringside who can forget Roger Kent who\\'s mispronouncing of words and sentences were historic Like when a wrestler was big \"Hes a big-on!\" punched or kicked in the guts \"right in the gussets\"or when kicked \"He punted him\" or \"the \"piledriver should be banned\" after Nick Bockwinkle used it on a helpless opponent.(Right Roger like you care!) After he left to greener money(WWF) they had Rod Trongard who\\'s announcing style was great but different. Like when a wrestler scraped the sole of his boot across another guys forehead he\\'d say\"Right across the front-e-lobe\" or when a wrestler is in trouble \"Hes in a bad bad way\". He also would say AWA the baddest,toughest,meanest, most scientific wrestlers are here right in the AWA!(No extra money Verne Gagne!) After he left(WWF) Larry(Wheres Phyllis?!) Nelson took over and I would talk to someone else or totally ignore him.(WWE wisely didn\\'t take him!) Also Greg Gagne had the ugliest wrestling boots I ever saw a yellow color of something I don\\'t want to say.Also when hes looking for the tag he looks like he wants to get it over with so that he can run to the nearest restroom! Jumpin Jim Brunzell was such a great dropkick artist that you wonder why Greg was ever his partner. Jerry Blackwell(RIP)was also a superstar wrestler but you wonder why Verne had himself win against him.(Puhleeeeze!) Then when Vince McMahon would hire Gagnes jobbers, he would make most of them wrestle squash matches. I like to see the Gagne family say wrestlings real now!',\n",
       " 'label': 0}"
      ]
     },
     "execution_count": 2,
     "metadata": {},
     "output_type": "execute_result"
    }
   ],
   "source": [
    "dataset[\"train\"][12499]"
   ]
  },
  {
   "cell_type": "code",
   "execution_count": 3,
   "id": "c4abd627",
   "metadata": {},
   "outputs": [
    {
     "data": {
      "text/plain": [
       "{'text': 'Zentropa has much in common with The Third Man, another noir-like film set among the rubble of postwar Europe. Like TTM, there is much inventive camera work. There is an innocent American who gets emotionally involved with a woman he doesn\\'t really understand, and whose naivety is all the more striking in contrast with the natives.<br /><br />But I\\'d have to say that The Third Man has a more well-crafted storyline. Zentropa is a bit disjointed in this respect. Perhaps this is intentional: it is presented as a dream/nightmare, and making it too coherent would spoil the effect. <br /><br />This movie is unrelentingly grim--\"noir\" in more than one sense; one never sees the sun shine. Grim, but intriguing, and frightening.',\n",
       " 'label': 1}"
      ]
     },
     "execution_count": 3,
     "metadata": {},
     "output_type": "execute_result"
    }
   ],
   "source": [
    "dataset[\"train\"][12500]"
   ]
  },
  {
   "cell_type": "code",
   "execution_count": 4,
   "id": "97563aa6",
   "metadata": {},
   "outputs": [
    {
     "name": "stderr",
     "output_type": "stream",
     "text": [
      "Map: 100%|██████████| 50000/50000 [00:22<00:00, 2263.92 examples/s]\n"
     ]
    }
   ],
   "source": [
    "from transformers import AutoTokenizer\n",
    "model_checkpoint=\"distilbert/distilbert-base-uncased\"\n",
    "tokenizer=AutoTokenizer.from_pretrained(model_checkpoint)\n",
    "def tokenizer_fn(data):\n",
    "    return tokenizer(data['text'],padding='max_length',truncation=True)\n",
    "\n",
    "tokenize_dataset=dataset.map(tokenizer_fn,batched=True)"
   ]
  },
  {
   "cell_type": "code",
   "execution_count": 5,
   "id": "e0691e60",
   "metadata": {},
   "outputs": [
    {
     "data": {
      "text/plain": [
       "512"
      ]
     },
     "execution_count": 5,
     "metadata": {},
     "output_type": "execute_result"
    }
   ],
   "source": [
    "len(tokenize_dataset['train']['attention_mask'][0])"
   ]
  },
  {
   "cell_type": "code",
   "execution_count": 6,
   "id": "0794ae9c",
   "metadata": {},
   "outputs": [
    {
     "data": {
      "text/plain": [
       "DatasetDict({\n",
       "    train: Dataset({\n",
       "        features: ['text', 'label', 'input_ids', 'attention_mask'],\n",
       "        num_rows: 25000\n",
       "    })\n",
       "    test: Dataset({\n",
       "        features: ['text', 'label', 'input_ids', 'attention_mask'],\n",
       "        num_rows: 25000\n",
       "    })\n",
       "    unsupervised: Dataset({\n",
       "        features: ['text', 'label', 'input_ids', 'attention_mask'],\n",
       "        num_rows: 50000\n",
       "    })\n",
       "})"
      ]
     },
     "execution_count": 6,
     "metadata": {},
     "output_type": "execute_result"
    }
   ],
   "source": [
    "tokenize_dataset"
   ]
  },
  {
   "cell_type": "code",
   "execution_count": 7,
   "id": "70546f59",
   "metadata": {},
   "outputs": [],
   "source": [
    "# so input ids will be my x and labels y, we'll remove text cause we've already converted it into numerical values in input id's \n",
    "updated_tokenize_dataset=tokenize_dataset.remove_columns(['text'])"
   ]
  },
  {
   "cell_type": "code",
   "execution_count": 8,
   "id": "5619841d",
   "metadata": {},
   "outputs": [
    {
     "data": {
      "text/plain": [
       "DatasetDict({\n",
       "    train: Dataset({\n",
       "        features: ['label', 'input_ids', 'attention_mask'],\n",
       "        num_rows: 25000\n",
       "    })\n",
       "    test: Dataset({\n",
       "        features: ['label', 'input_ids', 'attention_mask'],\n",
       "        num_rows: 25000\n",
       "    })\n",
       "    unsupervised: Dataset({\n",
       "        features: ['label', 'input_ids', 'attention_mask'],\n",
       "        num_rows: 50000\n",
       "    })\n",
       "})"
      ]
     },
     "execution_count": 8,
     "metadata": {},
     "output_type": "execute_result"
    }
   ],
   "source": [
    "updated_tokenize_dataset"
   ]
  },
  {
   "cell_type": "code",
   "execution_count": 9,
   "id": "c1fc6718",
   "metadata": {},
   "outputs": [],
   "source": [
    "updated_tokenize_dataset.set_format('torch')"
   ]
  },
  {
   "cell_type": "code",
   "execution_count": 10,
   "id": "a272fe35",
   "metadata": {},
   "outputs": [],
   "source": [
    "from transformers import AutoModelForSequenceClassification\n"
   ]
  },
  {
   "cell_type": "code",
   "execution_count": 11,
   "id": "eb0103ad",
   "metadata": {},
   "outputs": [
    {
     "name": "stderr",
     "output_type": "stream",
     "text": [
      "Some weights of DistilBertForSequenceClassification were not initialized from the model checkpoint at distilbert/distilbert-base-uncased and are newly initialized: ['classifier.bias', 'classifier.weight', 'pre_classifier.bias', 'pre_classifier.weight']\n",
      "You should probably TRAIN this model on a down-stream task to be able to use it for predictions and inference.\n"
     ]
    }
   ],
   "source": [
    "new_model=AutoModelForSequenceClassification.from_pretrained(model_checkpoint,num_labels=2)"
   ]
  },
  {
   "cell_type": "code",
   "execution_count": null,
   "id": "aa4248c7",
   "metadata": {},
   "outputs": [
    {
     "name": "stdout",
     "output_type": "stream",
     "text": [
      "WARNING:tensorflow:From c:\\Users\\HP\\AppData\\Local\\Programs\\Python\\Python311\\Lib\\site-packages\\tf_keras\\src\\losses.py:2976: The name tf.losses.sparse_softmax_cross_entropy is deprecated. Please use tf.compat.v1.losses.sparse_softmax_cross_entropy instead.\n",
      "\n"
     ]
    }
   ],
   "source": [
    "from transformers import TrainingArguments, Trainer"
   ]
  },
  {
   "cell_type": "code",
   "execution_count": 13,
   "id": "51cb8158",
   "metadata": {},
   "outputs": [
    {
     "name": "stdout",
     "output_type": "stream",
     "text": [
      "Requirement already satisfied: transformers[torch] in c:\\users\\hp\\appdata\\local\\programs\\python\\python311\\lib\\site-packages (4.53.2)\n",
      "Requirement already satisfied: filelock in c:\\users\\hp\\appdata\\local\\programs\\python\\python311\\lib\\site-packages (from transformers[torch]) (3.18.0)\n",
      "Requirement already satisfied: huggingface-hub<1.0,>=0.30.0 in c:\\users\\hp\\appdata\\local\\programs\\python\\python311\\lib\\site-packages (from transformers[torch]) (0.33.4)\n",
      "Requirement already satisfied: numpy>=1.17 in c:\\users\\hp\\appdata\\local\\programs\\python\\python311\\lib\\site-packages (from transformers[torch]) (2.0.2)\n",
      "Requirement already satisfied: packaging>=20.0 in c:\\users\\hp\\appdata\\roaming\\python\\python311\\site-packages (from transformers[torch]) (25.0)\n",
      "Requirement already satisfied: pyyaml>=5.1 in c:\\users\\hp\\appdata\\local\\programs\\python\\python311\\lib\\site-packages (from transformers[torch]) (6.0.2)\n",
      "Requirement already satisfied: regex!=2019.12.17 in c:\\users\\hp\\appdata\\local\\programs\\python\\python311\\lib\\site-packages (from transformers[torch]) (2024.11.6)\n",
      "Requirement already satisfied: requests in c:\\users\\hp\\appdata\\local\\programs\\python\\python311\\lib\\site-packages (from transformers[torch]) (2.32.4)\n",
      "Requirement already satisfied: tokenizers<0.22,>=0.21 in c:\\users\\hp\\appdata\\local\\programs\\python\\python311\\lib\\site-packages (from transformers[torch]) (0.21.2)\n",
      "Requirement already satisfied: safetensors>=0.4.3 in c:\\users\\hp\\appdata\\local\\programs\\python\\python311\\lib\\site-packages (from transformers[torch]) (0.5.3)\n",
      "Requirement already satisfied: tqdm>=4.27 in c:\\users\\hp\\appdata\\local\\programs\\python\\python311\\lib\\site-packages (from transformers[torch]) (4.67.1)\n",
      "Requirement already satisfied: torch>=2.1 in c:\\users\\hp\\appdata\\local\\programs\\python\\python311\\lib\\site-packages (from transformers[torch]) (2.7.1+cpu)\n",
      "Requirement already satisfied: accelerate>=0.26.0 in c:\\users\\hp\\appdata\\local\\programs\\python\\python311\\lib\\site-packages (from transformers[torch]) (1.8.1)\n",
      "Requirement already satisfied: fsspec>=2023.5.0 in c:\\users\\hp\\appdata\\local\\programs\\python\\python311\\lib\\site-packages (from huggingface-hub<1.0,>=0.30.0->transformers[torch]) (2025.3.0)\n",
      "Requirement already satisfied: typing-extensions>=3.7.4.3 in c:\\users\\hp\\appdata\\roaming\\python\\python311\\site-packages (from huggingface-hub<1.0,>=0.30.0->transformers[torch]) (4.14.1)\n",
      "Requirement already satisfied: psutil in c:\\users\\hp\\appdata\\roaming\\python\\python311\\site-packages (from accelerate>=0.26.0->transformers[torch]) (7.0.0)\n",
      "Requirement already satisfied: sympy>=1.13.3 in c:\\users\\hp\\appdata\\local\\programs\\python\\python311\\lib\\site-packages (from torch>=2.1->transformers[torch]) (1.13.3)\n",
      "Requirement already satisfied: networkx in c:\\users\\hp\\appdata\\local\\programs\\python\\python311\\lib\\site-packages (from torch>=2.1->transformers[torch]) (3.3)\n",
      "Requirement already satisfied: jinja2 in c:\\users\\hp\\appdata\\local\\programs\\python\\python311\\lib\\site-packages (from torch>=2.1->transformers[torch]) (3.1.4)\n",
      "Requirement already satisfied: mpmath<1.4,>=1.1.0 in c:\\users\\hp\\appdata\\local\\programs\\python\\python311\\lib\\site-packages (from sympy>=1.13.3->torch>=2.1->transformers[torch]) (1.3.0)\n",
      "Requirement already satisfied: colorama in c:\\users\\hp\\appdata\\roaming\\python\\python311\\site-packages (from tqdm>=4.27->transformers[torch]) (0.4.6)\n",
      "Requirement already satisfied: MarkupSafe>=2.0 in c:\\users\\hp\\appdata\\local\\programs\\python\\python311\\lib\\site-packages (from jinja2->torch>=2.1->transformers[torch]) (3.0.2)\n",
      "Requirement already satisfied: charset_normalizer<4,>=2 in c:\\users\\hp\\appdata\\local\\programs\\python\\python311\\lib\\site-packages (from requests->transformers[torch]) (3.4.2)\n",
      "Requirement already satisfied: idna<4,>=2.5 in c:\\users\\hp\\appdata\\local\\programs\\python\\python311\\lib\\site-packages (from requests->transformers[torch]) (3.10)\n",
      "Requirement already satisfied: urllib3<3,>=1.21.1 in c:\\users\\hp\\appdata\\local\\programs\\python\\python311\\lib\\site-packages (from requests->transformers[torch]) (2.5.0)\n",
      "Requirement already satisfied: certifi>=2017.4.17 in c:\\users\\hp\\appdata\\local\\programs\\python\\python311\\lib\\site-packages (from requests->transformers[torch]) (2025.7.9)\n",
      "Note: you may need to restart the kernel to use updated packages.\n"
     ]
    }
   ],
   "source": [
    "%pip install transformers[torch]"
   ]
  },
  {
   "cell_type": "code",
   "execution_count": 14,
   "id": "f4b3774c",
   "metadata": {},
   "outputs": [],
   "source": [
    "training_args=TrainingArguments(\n",
    "    output_dir=\"./result\",\n",
    "    save_strategy='epoch',\n",
    "    learning_rate=2e-5,\n",
    "    per_device_train_batch_size=8,\n",
    "    per_device_eval_batch_size=8,\n",
    "    num_train_epochs=2,\n",
    "    weight_decay=0.01\n",
    ")"
   ]
  },
  {
   "cell_type": "code",
   "execution_count": null,
   "id": "21c7ea61",
   "metadata": {},
   "outputs": [
    {
     "name": "stderr",
     "output_type": "stream",
     "text": [
      "c:\\Users\\HP\\AppData\\Local\\Programs\\Python\\Python311\\Lib\\site-packages\\torch\\utils\\data\\dataloader.py:665: UserWarning: 'pin_memory' argument is set as true but no accelerator is found, then device pinned memory won't be used.\n",
      "  warnings.warn(warn_msg)\n"
     ]
    },
    {
     "data": {
      "text/html": [
       "\n",
       "    <div>\n",
       "      \n",
       "      <progress value='3' max='6250' style='width:300px; height:20px; vertical-align: middle;'></progress>\n",
       "      [   3/6250 00:27 < 47:19:33, 0.04 it/s, Epoch 0.00/2]\n",
       "    </div>\n",
       "    <table border=\"1\" class=\"dataframe\">\n",
       "  <thead>\n",
       " <tr style=\"text-align: left;\">\n",
       "      <th>Step</th>\n",
       "      <th>Training Loss</th>\n",
       "    </tr>\n",
       "  </thead>\n",
       "  <tbody>\n",
       "  </tbody>\n",
       "</table><p>"
      ],
      "text/plain": [
       "<IPython.core.display.HTML object>"
      ]
     },
     "metadata": {},
     "output_type": "display_data"
    }
   ],
   "source": [
    "from transformers import Trainer\n",
    "\n",
    "trainer = Trainer(model=new_model,\n",
    "                args=training_args,\n",
    "                train_dataset=tokenize_dataset['train'],\n",
    "                eval_dataset=tokenize_dataset['test']\n",
    "        )\n",
    "trainer.train()"
   ]
  },
  {
   "cell_type": "code",
   "execution_count": null,
   "id": "9782a772",
   "metadata": {},
   "outputs": [],
   "source": []
  }
 ],
 "metadata": {
  "kernelspec": {
   "display_name": "Python 3.11 (TensorFlow)",
   "language": "python",
   "name": "py311"
  },
  "language_info": {
   "codemirror_mode": {
    "name": "ipython",
    "version": 3
   },
   "file_extension": ".py",
   "mimetype": "text/x-python",
   "name": "python",
   "nbconvert_exporter": "python",
   "pygments_lexer": "ipython3",
   "version": "3.11.0"
  }
 },
 "nbformat": 4,
 "nbformat_minor": 5
}
