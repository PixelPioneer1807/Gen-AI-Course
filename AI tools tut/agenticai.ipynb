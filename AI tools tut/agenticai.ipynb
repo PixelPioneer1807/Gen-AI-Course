{
 "cells": [
  {
   "cell_type": "markdown",
   "id": "f3c8dee3",
   "metadata": {},
   "source": [
    "A system that will taken any decision by itself without any human intervention is called An agent, functions that are used to call for small steps that helps in agent execute its task is called tools."
   ]
  },
  {
   "cell_type": "code",
   "execution_count": null,
   "id": "1289279f",
   "metadata": {
    "vscode": {
     "languageId": "plaintext"
    }
   },
   "outputs": [],
   "source": [
    "Platfoms - Langchain, Langgraph, Llamaindex, Crew AI "
   ]
  },
  {
   "cell_type": "markdown",
   "id": "b16286d7",
   "metadata": {},
   "source": [
    "Raw python code is written in the ai tools folder"
   ]
  },
  {
   "cell_type": "code",
   "execution_count": null,
   "id": "c1f035d8",
   "metadata": {
    "vscode": {
     "languageId": "plaintext"
    }
   },
   "outputs": [],
   "source": []
  },
  {
   "cell_type": "code",
   "execution_count": null,
   "id": "0950e957",
   "metadata": {
    "vscode": {
     "languageId": "plaintext"
    }
   },
   "outputs": [],
   "source": []
  }
 ],
 "metadata": {
  "language_info": {
   "name": "python"
  }
 },
 "nbformat": 4,
 "nbformat_minor": 5
}
