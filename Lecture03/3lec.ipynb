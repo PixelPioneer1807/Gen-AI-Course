{
 "cells": [
  {
   "cell_type": "code",
   "execution_count": 94,
   "id": "76cd0449",
   "metadata": {},
   "outputs": [
    {
     "name": "stdout",
     "output_type": "stream",
     "text": [
      "HEllo World\n"
     ]
    }
   ],
   "source": [
    "print(\"HEllo World\")"
   ]
  },
  {
   "cell_type": "code",
   "execution_count": 95,
   "id": "b89650df",
   "metadata": {},
   "outputs": [],
   "source": [
    "import nltk\n",
    "import gensim\n",
    "import string\n",
    "import matplotlib.pyplot as plt\n",
    "from gensim.models import Word2Vec\n",
    "from nltk.corpus import *\n",
    "from nltk.tokenize import word_tokenize\n",
    "import numpy as np\n",
    "import re"
   ]
  },
  {
   "cell_type": "code",
   "execution_count": 96,
   "id": "e33c3f85",
   "metadata": {},
   "outputs": [],
   "source": [
    "corpus=[\n",
    "    \"My name is shivam Kumar Srivastava .\",\n",
    "    \"I am very scared of upcoming time in context of getting jobs and stuff65446846.  .!@#\",\n",
    "    \"I am trying to hit the gym but can't control my cravings ar\",\n",
    "    \"I am genuinly trying to study and get a job1807\",\n",
    "    \"I am someone who deletes bumble and hinge instantly after installing it after \",\n",
    "    \"i luv ML & Ai... its soo cooool!!! #MachineLearning  #AI @OpenAI\",\n",
    "    \n",
    "]"
   ]
  },
  {
   "cell_type": "code",
   "execution_count": 97,
   "id": "de7a43f0",
   "metadata": {},
   "outputs": [],
   "source": [
    "# Cleaning of data  \n",
    "# # step by step \n",
    "\n",
    "# 1. convert the data into lower case\n",
    "# 2. remove any numbers present int he data\n",
    "# 3. remove any punctuation marks present in the data \n",
    "# LEARN ABOUT REGEX \n",
    "# 4. Tokenize the data using word_tokenize or split \n",
    "# 5. Remove Stopwords "
   ]
  },
  {
   "cell_type": "code",
   "execution_count": 98,
   "id": "ce95543e",
   "metadata": {},
   "outputs": [],
   "source": [
    "def preprocessing(text):\n",
    "    text=text.lower()   # 1. convert the data into lower case\n",
    "    text=re.sub(r'\\d+',\"\",text)   # 2. remove any numbers present int he data\n",
    "    text=text.translate(text.maketrans(\"\",\"\",string.punctuation))   # 3. remove any punctuation marks present in the data \n",
    "    word=word_tokenize(text)  # 4. Tokenize the data using word_tokenize or split \n",
    "    word=[i for i in word if i not in stopwords.words('english')]  # 5. Remove Stopwords \n",
    "    return word"
   ]
  },
  {
   "cell_type": "code",
   "execution_count": 99,
   "id": "45df4e5e",
   "metadata": {},
   "outputs": [
    {
     "data": {
      "text/plain": [
       "['My name is shivam Kumar Srivastava .',\n",
       " 'I am very scared of upcoming time in context of getting jobs and stuff65446846.  .!@#',\n",
       " \"I am trying to hit the gym but can't control my cravings ar\",\n",
       " 'I am genuinly trying to study and get a job1807',\n",
       " 'I am someone who deletes bumble and hinge instantly after installing it after ',\n",
       " 'i luv ML & Ai... its soo cooool!!! #MachineLearning  #AI @OpenAI']"
      ]
     },
     "execution_count": 99,
     "metadata": {},
     "output_type": "execute_result"
    }
   ],
   "source": [
    "corpus"
   ]
  },
  {
   "cell_type": "code",
   "execution_count": 100,
   "id": "fccd9c37",
   "metadata": {},
   "outputs": [],
   "source": [
    "processed_data=[preprocessing(i) for i in corpus]\n",
    "   \n",
    "    "
   ]
  },
  {
   "cell_type": "code",
   "execution_count": 101,
   "id": "aca4fba4",
   "metadata": {},
   "outputs": [
    {
     "data": {
      "text/plain": [
       "[['name', 'shivam', 'kumar', 'srivastava'],\n",
       " ['scared', 'upcoming', 'time', 'context', 'getting', 'jobs', 'stuff'],\n",
       " ['trying', 'hit', 'gym', 'cant', 'control', 'cravings', 'ar'],\n",
       " ['genuinly', 'trying', 'study', 'get', 'job'],\n",
       " ['someone', 'deletes', 'bumble', 'hinge', 'instantly', 'installing'],\n",
       " ['luv', 'ml', 'ai', 'soo', 'cooool', 'machinelearning', 'ai', 'openai']]"
      ]
     },
     "execution_count": 101,
     "metadata": {},
     "output_type": "execute_result"
    }
   ],
   "source": [
    "processed_data"
   ]
  },
  {
   "cell_type": "code",
   "execution_count": 102,
   "id": "e1876813",
   "metadata": {},
   "outputs": [],
   "source": [
    "word2vec_cbow=Word2Vec(sentences=processed_data ,vector_size=100, window=2, min_count=1, sg=0)\n",
    "word2vec_sg=Word2Vec(sentences=processed_data ,vector_size=100, window=2, min_count=1, sg=1)"
   ]
  },
  {
   "cell_type": "code",
   "execution_count": 103,
   "id": "abd20d7f",
   "metadata": {},
   "outputs": [
    {
     "data": {
      "text/plain": [
       "<gensim.models.word2vec.Word2Vec at 0x161d5cb0500>"
      ]
     },
     "execution_count": 103,
     "metadata": {},
     "output_type": "execute_result"
    }
   ],
   "source": [
    "word2vec_cbow"
   ]
  },
  {
   "cell_type": "code",
   "execution_count": 104,
   "id": "1a4669a3",
   "metadata": {},
   "outputs": [
    {
     "data": {
      "text/plain": [
       "<gensim.models.word2vec.Word2Vec at 0x161d5e29100>"
      ]
     },
     "execution_count": 104,
     "metadata": {},
     "output_type": "execute_result"
    }
   ],
   "source": [
    "word2vec_sg"
   ]
  },
  {
   "cell_type": "code",
   "execution_count": 105,
   "id": "5d3f8070",
   "metadata": {},
   "outputs": [
    {
     "data": {
      "text/plain": [
       "array([-5.2527577e-04,  2.2852422e-04,  5.1038675e-03,  9.0138754e-03,\n",
       "       -9.3118493e-03, -7.1298531e-03,  6.4655617e-03,  8.9950580e-03,\n",
       "       -5.0193849e-03, -3.7812807e-03,  7.3941126e-03, -1.5326852e-03,\n",
       "       -4.5419349e-03,  6.5572686e-03, -4.8584878e-03, -1.8161847e-03,\n",
       "        2.8800352e-03,  9.8240562e-04, -8.2837725e-03, -9.4710961e-03,\n",
       "        7.3136021e-03,  5.0691934e-03,  6.7684329e-03,  7.5484591e-04,\n",
       "        6.3571515e-03, -3.4118651e-03, -9.4956910e-04,  5.7763155e-03,\n",
       "       -7.5233076e-03, -3.9289575e-03, -7.5161476e-03, -9.3947531e-04,\n",
       "        9.5544374e-03, -7.3275506e-03, -2.3350252e-03, -1.9361773e-03,\n",
       "        8.0750277e-03, -5.9378450e-03,  4.8972008e-05, -4.7637532e-03,\n",
       "       -9.6115777e-03,  5.0021778e-03, -8.7694777e-03, -4.3953378e-03,\n",
       "       -3.2794986e-05, -3.0683671e-04, -7.6647629e-03,  9.6201962e-03,\n",
       "        4.9836002e-03,  9.2520136e-03, -8.1684729e-03,  4.4944836e-03,\n",
       "       -4.1437466e-03,  8.3176442e-04,  8.5137496e-03, -4.4667372e-03,\n",
       "        4.5231092e-03, -6.7916196e-03, -3.5543693e-03,  9.4123986e-03,\n",
       "       -1.5898445e-03,  3.2027715e-04, -4.1358769e-03, -7.6842802e-03,\n",
       "       -1.5190914e-03,  2.4806953e-03, -8.8447967e-04,  5.5432320e-03,\n",
       "       -2.7542508e-03,  2.2601418e-03,  5.4708319e-03,  8.3552906e-03,\n",
       "       -1.4461635e-03, -9.2146834e-03,  4.3803672e-03,  5.6937902e-04,\n",
       "        7.4495543e-03, -8.1352709e-04, -2.6451773e-03, -8.7595787e-03,\n",
       "       -8.4951252e-04,  2.8297193e-03,  5.4037026e-03,  7.0689726e-03,\n",
       "       -5.6975726e-03,  1.8626604e-03,  6.0935742e-03, -4.8015835e-03,\n",
       "       -3.1015379e-03,  6.8128370e-03,  1.6342548e-03,  1.9072865e-04,\n",
       "        3.4820237e-03,  2.1737262e-04,  9.6302126e-03,  5.0703157e-03,\n",
       "       -8.9182882e-03, -7.0509734e-03,  9.1719191e-04,  6.3893544e-03],\n",
       "      dtype=float32)"
      ]
     },
     "execution_count": 105,
     "metadata": {},
     "output_type": "execute_result"
    }
   ],
   "source": [
    "word2vec_sg.wv[\"ai\"]"
   ]
  },
  {
   "cell_type": "code",
   "execution_count": 106,
   "id": "f754b04c",
   "metadata": {},
   "outputs": [
    {
     "data": {
      "text/plain": [
       "[('shivam', 0.2187764197587967),\n",
       " ('context', 0.2162109762430191),\n",
       " ('instantly', 0.19536259770393372)]"
      ]
     },
     "execution_count": 106,
     "metadata": {},
     "output_type": "execute_result"
    }
   ],
   "source": [
    "word2vec_sg.wv.most_similar('ai',topn=3)"
   ]
  },
  {
   "cell_type": "code",
   "execution_count": 107,
   "id": "a6f69595",
   "metadata": {},
   "outputs": [
    {
     "data": {
      "text/plain": [
       "[('shivam', 0.2187599539756775),\n",
       " ('context', 0.2161799520254135),\n",
       " ('instantly', 0.1953960508108139)]"
      ]
     },
     "execution_count": 107,
     "metadata": {},
     "output_type": "execute_result"
    }
   ],
   "source": [
    "word2vec_cbow.wv.most_similar('ai',topn=3)"
   ]
  },
  {
   "cell_type": "code",
   "execution_count": 108,
   "id": "dee9b609",
   "metadata": {},
   "outputs": [
    {
     "data": {
      "text/plain": [
       "-0.14752528"
      ]
     },
     "execution_count": 108,
     "metadata": {},
     "output_type": "execute_result"
    }
   ],
   "source": [
    "word2vec_cbow.wv.similarity('ai','ml')"
   ]
  },
  {
   "cell_type": "code",
   "execution_count": 109,
   "id": "b4d28b3c",
   "metadata": {},
   "outputs": [
    {
     "data": {
      "text/plain": [
       "0.21875997"
      ]
     },
     "execution_count": 109,
     "metadata": {},
     "output_type": "execute_result"
    }
   ],
   "source": [
    "word2vec_cbow.wv.similarity('ai','shivam')"
   ]
  },
  {
   "cell_type": "code",
   "execution_count": 110,
   "id": "9a4d69c7",
   "metadata": {},
   "outputs": [
    {
     "data": {
      "text/plain": [
       "0.048910037"
      ]
     },
     "execution_count": 110,
     "metadata": {},
     "output_type": "execute_result"
    }
   ],
   "source": [
    "word2vec_cbow.wv.similarity('srivastava','shivam')"
   ]
  },
  {
   "cell_type": "code",
   "execution_count": 112,
   "id": "713ffa00",
   "metadata": {},
   "outputs": [
    {
     "data": {
      "text/plain": [
       "[('ai', 0.2187599539756775),\n",
       " ('stuff', 0.1747603565454483),\n",
       " ('hit', 0.16378779709339142),\n",
       " ('instantly', 0.1420435607433319),\n",
       " ('cant', 0.10854044556617737),\n",
       " ('genuinly', 0.10757598280906677),\n",
       " ('cooool', 0.09874233603477478),\n",
       " ('luv', 0.09041532129049301),\n",
       " ('kumar', 0.06548558175563812),\n",
       " ('ar', 0.059569284319877625)]"
      ]
     },
     "execution_count": 112,
     "metadata": {},
     "output_type": "execute_result"
    }
   ],
   "source": [
    "word2vec_cbow.wv.most_similar(\"shivam\")"
   ]
  },
  {
   "cell_type": "code",
   "execution_count": 115,
   "id": "1d58700b",
   "metadata": {},
   "outputs": [
    {
     "data": {
      "text/plain": [
       "[('ai', 0.21877644956111908),\n",
       " ('stuff', 0.1747603565454483),\n",
       " ('hit', 0.16383858025074005),\n",
       " ('instantly', 0.1420435607433319),\n",
       " ('cant', 0.10853126645088196),\n",
       " ('genuinly', 0.10757598280906677),\n",
       " ('cooool', 0.0987870991230011),\n",
       " ('luv', 0.09038964658975601),\n",
       " ('kumar', 0.06548558175563812),\n",
       " ('ar', 0.059543151408433914)]"
      ]
     },
     "execution_count": 115,
     "metadata": {},
     "output_type": "execute_result"
    }
   ],
   "source": [
    "word2vec_sg.wv.most_similar(\"shivam\")"
   ]
  },
  {
   "cell_type": "code",
   "execution_count": 128,
   "id": "be773a61",
   "metadata": {},
   "outputs": [],
   "source": [
    "# //print the graph of dataset\n",
    "\n",
    "from sklearn.manifold import TSNE\n",
    "import numpy as np\n",
    "import matplotlib.pyplot as plt"
   ]
  },
  {
   "cell_type": "code",
   "execution_count": 129,
   "id": "62f2857b",
   "metadata": {},
   "outputs": [
    {
     "data": {
      "text/plain": [
       "['ai',\n",
       " 'trying',\n",
       " 'openai',\n",
       " 'getting',\n",
       " 'cant',\n",
       " 'gym',\n",
       " 'hit',\n",
       " 'stuff',\n",
       " 'jobs',\n",
       " 'context',\n",
       " 'cravings',\n",
       " 'time',\n",
       " 'upcoming',\n",
       " 'scared',\n",
       " 'srivastava',\n",
       " 'kumar',\n",
       " 'shivam',\n",
       " 'control',\n",
       " 'ar',\n",
       " 'machinelearning',\n",
       " 'genuinly',\n",
       " 'study',\n",
       " 'get',\n",
       " 'job',\n",
       " 'someone',\n",
       " 'deletes',\n",
       " 'bumble',\n",
       " 'hinge',\n",
       " 'instantly',\n",
       " 'installing',\n",
       " 'luv',\n",
       " 'ml',\n",
       " 'soo',\n",
       " 'cooool',\n",
       " 'name']"
      ]
     },
     "execution_count": 129,
     "metadata": {},
     "output_type": "execute_result"
    }
   ],
   "source": [
    "word_vectors= word2vec_cbow.wv\n",
    "vocab=list(word_vectors.index_to_key)\n",
    "vocab"
   ]
  },
  {
   "cell_type": "code",
   "execution_count": 130,
   "id": "78f6096b",
   "metadata": {},
   "outputs": [
    {
     "data": {
      "text/plain": [
       "35"
      ]
     },
     "execution_count": 130,
     "metadata": {},
     "output_type": "execute_result"
    }
   ],
   "source": [
    "len(vocab)"
   ]
  },
  {
   "cell_type": "code",
   "execution_count": 131,
   "id": "28cab4da",
   "metadata": {},
   "outputs": [],
   "source": [
    "x=np.array([word_vectors[i] for i in vocab])"
   ]
  },
  {
   "cell_type": "code",
   "execution_count": 132,
   "id": "1ae88417",
   "metadata": {},
   "outputs": [],
   "source": [
    "tsne=TSNE(n_components=2)"
   ]
  },
  {
   "cell_type": "code",
   "execution_count": 133,
   "id": "7a8dac4f",
   "metadata": {},
   "outputs": [],
   "source": [
    "x_new_embeddings=tsne.fit_transform(x)"
   ]
  },
  {
   "cell_type": "code",
   "execution_count": 134,
   "id": "2b7757cc",
   "metadata": {},
   "outputs": [
    {
     "data": {
      "text/plain": [
       "<matplotlib.collections.PathCollection at 0x161d5dae1b0>"
      ]
     },
     "execution_count": 134,
     "metadata": {},
     "output_type": "execute_result"
    },
    {
     "data": {
      "image/png": "[encoded data removed]",
      "text/plain": [
       "<Figure size 1200x600 with 1 Axes>"
      ]
     },
     "metadata": {},
     "output_type": "display_data"
    }
   ],
   "source": [
    "plt.figure(figsize=(12,6))\n",
    "plt.scatter(x_new_embeddings[:,0],x_new_embeddings[:,1],marker=\"o\")"
   ]
  },
  {
   "cell_type": "code",
   "execution_count": 135,
   "id": "4691c626",
   "metadata": {},
   "outputs": [
    {
     "data": {
      "text/plain": [
       "['ai',\n",
       " 'trying',\n",
       " 'openai',\n",
       " 'getting',\n",
       " 'cant',\n",
       " 'gym',\n",
       " 'hit',\n",
       " 'stuff',\n",
       " 'jobs',\n",
       " 'context',\n",
       " 'cravings',\n",
       " 'time',\n",
       " 'upcoming',\n",
       " 'scared',\n",
       " 'srivastava',\n",
       " 'kumar',\n",
       " 'shivam',\n",
       " 'control',\n",
       " 'ar',\n",
       " 'machinelearning',\n",
       " 'genuinly',\n",
       " 'study',\n",
       " 'get',\n",
       " 'job',\n",
       " 'someone',\n",
       " 'deletes',\n",
       " 'bumble',\n",
       " 'hinge',\n",
       " 'instantly',\n",
       " 'installing',\n",
       " 'luv',\n",
       " 'ml',\n",
       " 'soo',\n",
       " 'cooool',\n",
       " 'name']"
      ]
     },
     "execution_count": 135,
     "metadata": {},
     "output_type": "execute_result"
    }
   ],
   "source": [
    "vocab"
   ]
  },
  {
   "cell_type": "code",
   "execution_count": 142,
   "id": "ef03915b",
   "metadata": {},
   "outputs": [
    {
     "data": {
      "image/png": "[encoded data removed]",
      "text/plain": [
       "<Figure size 2000x1000 with 1 Axes>"
      ]
     },
     "metadata": {},
     "output_type": "display_data"
    }
   ],
   "source": [
    "plt.figure(figsize=(20,10))\n",
    "plt.scatter(x_new_embeddings[:,0],x_new_embeddings[:,1],marker=\"o\")\n",
    "\n",
    "for i,words in enumerate(vocab[:len(x_new_embeddings)]):\n",
    "    plt.annotate(words,xy=(x_new_embeddings[i,0],x_new_embeddings[i,0]))"
   ]
  }
 ],
 "metadata": {
  "kernelspec": {
   "display_name": "Python 3",
   "language": "python",
   "name": "python3"
  },
  "language_info": {
   "codemirror_mode": {
    "name": "ipython",
    "version": 3
   },
   "file_extension": ".py",
   "mimetype": "text/x-python",
   "name": "python",
   "nbconvert_exporter": "python",
   "pygments_lexer": "ipython3",
   "version": "3.12.4"
  }
 },
 "nbformat": 4,
 "nbformat_minor": 5
}
