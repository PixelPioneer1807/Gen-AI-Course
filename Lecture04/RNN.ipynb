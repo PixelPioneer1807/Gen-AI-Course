{
 "cells": [
  {
   "cell_type": "code",
   "execution_count": 135,
   "id": "c97eb04f",
   "metadata": {},
   "outputs": [
    {
     "name": "stdout",
     "output_type": "stream",
     "text": [
      "Hello WOrld\n"
     ]
    }
   ],
   "source": [
    "print(\"Hello WOrld\")"
   ]
  },
  {
   "cell_type": "code",
   "execution_count": 136,
   "id": "f689a283",
   "metadata": {},
   "outputs": [],
   "source": [
    "input=[1,2,3,4,5]\n",
    "output=[1,6,9,12,15]\n",
    "\n",
    "# let's just create a neural network which will understand relationship between input and output"
   ]
  },
  {
   "cell_type": "code",
   "execution_count": 137,
   "id": "514e9e6d",
   "metadata": {},
   "outputs": [],
   "source": [
    "# Raw python coding we won't use any library \n",
    "w=0.0  #Weight\n",
    "b=0.0  #bias\n",
    "lr=0.01 #learning rate"
   ]
  },
  {
   "cell_type": "code",
   "execution_count": 138,
   "id": "9386a2ed",
   "metadata": {},
   "outputs": [
    {
     "name": "stdout",
     "output_type": "stream",
     "text": [
      "epoch 0 | Loss: 231.45170394306533 | w: 2.173052208, b: 0.6215089056\n",
      "epoch 10 | Loss: 5.668672588717118 | w: 2.8831453346293396, b: 0.4328000726718697\n",
      "epoch 20 | Loss: 4.5072196735718535 | w: 2.9577824028574384, b: 0.11635075469188232\n",
      "epoch 30 | Loss: 3.696638259205255 | w: 3.0200952269251204, b: -0.14784644018673837\n",
      "epoch 40 | Loss: 3.1307926739743976 | w: 3.0721189456769076, b: -0.36841934419219613\n",
      "epoch 50 | Loss: 2.7356743667314647 | w: 3.1155524981319815, b: -0.5525712084985134\n",
      "epoch 60 | Loss: 2.45967438653243 | w: 3.1518142941767495, b: -0.7063158820811455\n",
      "epoch 70 | Loss: 2.2668006775972156 | w: 3.1820885355884427, b: -0.8346742060333362\n",
      "epoch 80 | Loss: 2.131949736753241 | w: 3.2073638885224773, b: -0.941837979215763\n",
      "epoch 90 | Loss: 2.0376103158588044 | w: 3.2284657703913733, b: -1.0313068498670508\n",
      "18.367641995895795\n"
     ]
    }
   ],
   "source": [
    "# we'll sending the data multiple times(epochs) in order to make th nn learn and minimizes it's losses \n",
    "for epoch in range(100):\n",
    "    total_loss=0\n",
    "    for x,y in zip(input,output):\n",
    "        y_pred=w*x+b\n",
    "        error=y_pred-y\n",
    "        loss=error**2\n",
    "        total_loss=total_loss+loss\n",
    "        \n",
    "        dw=2*error*x\n",
    "        db=2*error \n",
    "        \n",
    "        w=w-lr*dw \n",
    "        b=b-lr*db \n",
    "        \n",
    "    if epoch %10 ==0:\n",
    "        print(f\"epoch {epoch} | Loss: {total_loss} | w: {w}, b: {b}\")\n",
    "        \n",
    "test_data=6\n",
    "prediction= w*test_data + b\n",
    "print(prediction)\n",
    "        \n",
    "        \n",
    "    "
   ]
  },
  {
   "cell_type": "code",
   "execution_count": 139,
   "id": "49a886b1",
   "metadata": {},
   "outputs": [],
   "source": [
    "# //creating a hidden layer \n",
    "\n",
    "input=[1,2,3,4,5]\n",
    "output=[2,4,6,8,10]\n"
   ]
  },
  {
   "cell_type": "code",
   "execution_count": 140,
   "id": "58d098d0",
   "metadata": {},
   "outputs": [],
   "source": [
    "w1,b1=0.1,0.0\n",
    "w2,b2=-0.1,0.0\n",
    "w3,w4=0.1,0.1\n",
    "b3=0.0\n",
    "lr=0.01"
   ]
  },
  {
   "cell_type": "code",
   "execution_count": 141,
   "id": "20af801b",
   "metadata": {},
   "outputs": [],
   "source": [
    "def relu(x):\n",
    "    return max(0,x)"
   ]
  },
  {
   "cell_type": "code",
   "execution_count": 142,
   "id": "590ca25d",
   "metadata": {},
   "outputs": [],
   "source": [
    "def relu_derivative(x):\n",
    "    return 1 if x>0 else 0"
   ]
  },
  {
   "cell_type": "code",
   "execution_count": 143,
   "id": "4808782e",
   "metadata": {},
   "outputs": [
    {
     "name": "stdout",
     "output_type": "stream",
     "text": [
      "epoch 0 | Loss: 3.9601\n",
      "epoch 0 | Loss: 19.46922370942816\n",
      "epoch 0 | Loss: 53.53273834591123\n",
      "epoch 0 | Loss: 112.10975583145009\n",
      "epoch 0 | Loss: 197.58784675778605\n",
      "epoch 10 | Loss: 0.5175232634239522\n",
      "epoch 10 | Loss: 0.6942119098593943\n",
      "epoch 10 | Loss: 0.6943375660628105\n",
      "epoch 10 | Loss: 0.7625240158039989\n",
      "epoch 10 | Loss: 0.7822743866736906\n",
      "epoch 20 | Loss: 0.18338824616234467\n",
      "epoch 20 | Loss: 0.247170461131674\n",
      "epoch 20 | Loss: 0.24722758471479223\n",
      "epoch 20 | Loss: 0.27172136468731856\n",
      "epoch 20 | Loss: 0.2777331306080438\n",
      "epoch 30 | Loss: 0.06231414130691843\n",
      "epoch 30 | Loss: 0.08415886646822263\n",
      "epoch 30 | Loss: 0.0841787475443425\n",
      "epoch 30 | Loss: 0.09258025509069169\n",
      "epoch 30 | Loss: 0.09441733364350127\n",
      "epoch 40 | Loss: 0.02052626479496318\n",
      "epoch 40 | Loss: 0.027745174324756906\n",
      "epoch 40 | Loss: 0.02775144045831802\n",
      "epoch 40 | Loss: 0.030536002208338534\n",
      "epoch 40 | Loss: 0.03110053083599192\n",
      "epoch 50 | Loss: 0.00662591983917979\n",
      "epoch 50 | Loss: 0.008959274318573893\n",
      "epoch 50 | Loss: 0.008961197606364265\n",
      "epoch 50 | Loss: 0.009863494746421793\n",
      "epoch 50 | Loss: 0.010038059173204952\n",
      "epoch 60 | Loss: 0.0021126734295842816\n",
      "epoch 60 | Loss: 0.002857079956525244\n",
      "epoch 60 | Loss: 0.00285767007689515\n",
      "epoch 60 | Loss: 0.0031460204127283526\n",
      "epoch 60 | Loss: 0.00320027527189278\n",
      "epoch 70 | Loss: 0.0006687743618627963\n",
      "epoch 70 | Loss: 0.0009044784313147716\n",
      "epoch 70 | Loss: 0.0009046605826841523\n",
      "epoch 70 | Loss: 0.0009960589591282228\n",
      "epoch 70 | Loss: 0.0010129806992875082\n",
      "epoch 80 | Loss: 0.00021082531134314304\n",
      "epoch 80 | Loss: 0.00028513798192415015\n",
      "epoch 80 | Loss: 0.00028519452636293605\n",
      "epoch 80 | Loss: 0.00031402870452283655\n",
      "epoch 80 | Loss: 0.0003193181207800499\n",
      "epoch 90 | Loss: 6.630416729091282e-05\n",
      "epoch 90 | Loss: 8.967679835965887e-05\n",
      "epoch 90 | Loss: 8.969442146470574e-05\n",
      "epoch 90 | Loss: 9.876657135635478e-05\n",
      "epoch 90 | Loss: 0.00010042211687133479\n"
     ]
    },
    {
     "data": {
      "text/plain": [
       "17.99692772369434"
      ]
     },
     "execution_count": 143,
     "metadata": {},
     "output_type": "execute_result"
    }
   ],
   "source": [
    "for epoch in range(100):\n",
    "    total_loss=0\n",
    "    for x,y in zip(input,output):\n",
    "        z1=w1*x+b1\n",
    "        h1=relu(z1)\n",
    "        \n",
    "        z2=w2*x+b2\n",
    "        h2=relu(z2)\n",
    "        \n",
    "        Y_pred=w3*h1+w4*h2+b3\n",
    "        \n",
    "        error=Y_pred-y\n",
    "        loss=error**2\n",
    "        \n",
    "        total_loss =total_loss+loss\n",
    "        \n",
    "        dl_dy=2*error \n",
    "        dw3=dl_dy*h1\n",
    "        dw4=dl_dy*h2\n",
    "        db3=dl_dy\n",
    "        \n",
    "        dh1=dl_dy*w3\n",
    "        dh2=dl_dy*w4 \n",
    "        \n",
    "        dz1=dh1*relu_derivative(z1)\n",
    "        dz2=dh2* relu_derivative(z2)\n",
    "        \n",
    "        dw1=dz1*x\n",
    "        db1=dz1\n",
    "        \n",
    "        dw2=dz2*x\n",
    "        db2=dz2\n",
    "        \n",
    "        w1=w1-lr*dw1\n",
    "        w2=w2-lr*dw2\n",
    "        w3=w3-lr*dw3 \n",
    "        w4=w4-lr*dw4\n",
    "        \n",
    "        b1=b1-lr*db1\n",
    "        b2=b2-lr*db2\n",
    "        b3=b3-lr*db3\n",
    "        \n",
    "        if epoch %10 ==0:\n",
    "            print(f\"epoch {epoch} | Loss: {total_loss}\")\n",
    "        \n",
    "def prediction(x):\n",
    "    z1=w1*x+b1\n",
    "    h1=relu(z1)\n",
    "        \n",
    "    z2=w2*x+b2\n",
    "    h2=relu(z2)\n",
    "        \n",
    "    y_=w3*h1+w4*h2+b3\n",
    "    \n",
    "    return y_\n",
    "\n",
    "prediction(9)\n",
    "    \n",
    "        \n",
    "        \n",
    "        "
   ]
  },
  {
   "cell_type": "code",
   "execution_count": 144,
   "id": "ba208a8a",
   "metadata": {},
   "outputs": [],
   "source": [
    "# now we're going to do the same as tensorflow/pytorch"
   ]
  },
  {
   "cell_type": "code",
   "execution_count": 145,
   "id": "f009efa5",
   "metadata": {},
   "outputs": [],
   "source": [
    "import tensorflow as tf"
   ]
  },
  {
   "cell_type": "code",
   "execution_count": 146,
   "id": "7aaa4b14",
   "metadata": {},
   "outputs": [],
   "source": [
    "import numpy as np"
   ]
  },
  {
   "cell_type": "code",
   "execution_count": 147,
   "id": "eb9bfb4d",
   "metadata": {},
   "outputs": [],
   "source": [
    "input=[1,2,3,4,5,6,7,8]"
   ]
  },
  {
   "cell_type": "code",
   "execution_count": 148,
   "id": "36b17fa8",
   "metadata": {},
   "outputs": [],
   "source": [
    "output=[1,4,6,8,10,12,14,16]"
   ]
  },
  {
   "cell_type": "code",
   "execution_count": 149,
   "id": "6b909fc0",
   "metadata": {},
   "outputs": [],
   "source": [
    "x=np.array(input,dtype=float)"
   ]
  },
  {
   "cell_type": "code",
   "execution_count": 150,
   "id": "eb4d7411",
   "metadata": {},
   "outputs": [],
   "source": [
    "y=np.array(output,dtype=float)"
   ]
  },
  {
   "cell_type": "code",
   "execution_count": 180,
   "id": "268a7c75",
   "metadata": {},
   "outputs": [],
   "source": [
    "model=tf.keras.Sequential([tf.keras.layers.Dense(30,activation='linear',input_shape=[1]),\n",
    "                     tf.keras.layers.Dense(1)])  #this is just the architecture creation\n",
    "\n"
   ]
  },
  {
   "cell_type": "code",
   "execution_count": 181,
   "id": "d73ae274",
   "metadata": {},
   "outputs": [],
   "source": [
    "model.compile(optimizer=tf.keras.optimizers.SGD(learning_rate=0.001),loss='mean_squared_error')"
   ]
  },
  {
   "cell_type": "code",
   "execution_count": 182,
   "id": "01786056",
   "metadata": {},
   "outputs": [
    {
     "name": "stdout",
     "output_type": "stream",
     "text": [
      "Epoch 1/100\n"
     ]
    },
    {
     "ename": "ValueError",
     "evalue": "Exception encountered when calling Sequential.call().\n\n\u001b[1mInvalid input shape for input Tensor(\"data:0\", shape=(None, 3, 4), dtype=float32). Expected shape (None, 1), but input has incompatible shape (None, 3, 4)\u001b[0m\n\nArguments received by Sequential.call():\n  • inputs=tf.Tensor(shape=(None, 3, 4), dtype=float32)\n  • training=True\n  • mask=None",
     "output_type": "error",
     "traceback": [
      "\u001b[1;31m---------------------------------------------------------------------------\u001b[0m",
      "\u001b[1;31mValueError\u001b[0m                                Traceback (most recent call last)",
      "Cell \u001b[1;32mIn[182], line 1\u001b[0m\n\u001b[1;32m----> 1\u001b[0m \u001b[43mmodel\u001b[49m\u001b[38;5;241;43m.\u001b[39;49m\u001b[43mfit\u001b[49m\u001b[43m(\u001b[49m\u001b[43mx\u001b[49m\u001b[43m,\u001b[49m\u001b[43my\u001b[49m\u001b[43m,\u001b[49m\u001b[43mepochs\u001b[49m\u001b[38;5;241;43m=\u001b[39;49m\u001b[38;5;241;43m100\u001b[39;49m\u001b[43m,\u001b[49m\u001b[43mverbose\u001b[49m\u001b[38;5;241;43m=\u001b[39;49m\u001b[38;5;241;43m1\u001b[39;49m\u001b[43m)\u001b[49m\n",
      "File \u001b[1;32m~\\AppData\\Roaming\\Python\\Python312\\site-packages\\keras\\src\\utils\\traceback_utils.py:122\u001b[0m, in \u001b[0;36mfilter_traceback.<locals>.error_handler\u001b[1;34m(*args, **kwargs)\u001b[0m\n\u001b[0;32m    119\u001b[0m     filtered_tb \u001b[38;5;241m=\u001b[39m _process_traceback_frames(e\u001b[38;5;241m.\u001b[39m__traceback__)\n\u001b[0;32m    120\u001b[0m     \u001b[38;5;66;03m# To get the full stack trace, call:\u001b[39;00m\n\u001b[0;32m    121\u001b[0m     \u001b[38;5;66;03m# `keras.config.disable_traceback_filtering()`\u001b[39;00m\n\u001b[1;32m--> 122\u001b[0m     \u001b[38;5;28;01mraise\u001b[39;00m e\u001b[38;5;241m.\u001b[39mwith_traceback(filtered_tb) \u001b[38;5;28;01mfrom\u001b[39;00m \u001b[38;5;28;01mNone\u001b[39;00m\n\u001b[0;32m    123\u001b[0m \u001b[38;5;28;01mfinally\u001b[39;00m:\n\u001b[0;32m    124\u001b[0m     \u001b[38;5;28;01mdel\u001b[39;00m filtered_tb\n",
      "File \u001b[1;32m~\\AppData\\Roaming\\Python\\Python312\\site-packages\\keras\\src\\models\\functional.py:244\u001b[0m, in \u001b[0;36mFunctional._adjust_input_rank\u001b[1;34m(self, flat_inputs)\u001b[0m\n\u001b[0;32m    242\u001b[0m             adjusted\u001b[38;5;241m.\u001b[39mappend(ops\u001b[38;5;241m.\u001b[39mexpand_dims(x, axis\u001b[38;5;241m=\u001b[39m\u001b[38;5;241m-\u001b[39m\u001b[38;5;241m1\u001b[39m))\n\u001b[0;32m    243\u001b[0m             \u001b[38;5;28;01mcontinue\u001b[39;00m\n\u001b[1;32m--> 244\u001b[0m     \u001b[38;5;28;01mraise\u001b[39;00m \u001b[38;5;167;01mValueError\u001b[39;00m(\n\u001b[0;32m    245\u001b[0m         \u001b[38;5;124mf\u001b[39m\u001b[38;5;124m\"\u001b[39m\u001b[38;5;124mInvalid input shape for input \u001b[39m\u001b[38;5;132;01m{\u001b[39;00mx\u001b[38;5;132;01m}\u001b[39;00m\u001b[38;5;124m. Expected shape \u001b[39m\u001b[38;5;124m\"\u001b[39m\n\u001b[0;32m    246\u001b[0m         \u001b[38;5;124mf\u001b[39m\u001b[38;5;124m\"\u001b[39m\u001b[38;5;132;01m{\u001b[39;00mref_shape\u001b[38;5;132;01m}\u001b[39;00m\u001b[38;5;124m, but input has incompatible shape \u001b[39m\u001b[38;5;132;01m{\u001b[39;00mx\u001b[38;5;241m.\u001b[39mshape\u001b[38;5;132;01m}\u001b[39;00m\u001b[38;5;124m\"\u001b[39m\n\u001b[0;32m    247\u001b[0m     )\n\u001b[0;32m    248\u001b[0m \u001b[38;5;66;03m# Add back metadata.\u001b[39;00m\n\u001b[0;32m    249\u001b[0m \u001b[38;5;28;01mfor\u001b[39;00m i \u001b[38;5;129;01min\u001b[39;00m \u001b[38;5;28mrange\u001b[39m(\u001b[38;5;28mlen\u001b[39m(flat_inputs)):\n",
      "\u001b[1;31mValueError\u001b[0m: Exception encountered when calling Sequential.call().\n\n\u001b[1mInvalid input shape for input Tensor(\"data:0\", shape=(None, 3, 4), dtype=float32). Expected shape (None, 1), but input has incompatible shape (None, 3, 4)\u001b[0m\n\nArguments received by Sequential.call():\n  • inputs=tf.Tensor(shape=(None, 3, 4), dtype=float32)\n  • training=True\n  • mask=None"
     ]
    }
   ],
   "source": [
    "model.fit(x,y,epochs=100,verbose=1)\n",
    "\n"
   ]
  },
  {
   "cell_type": "code",
   "execution_count": 163,
   "id": "62f4bf84",
   "metadata": {},
   "outputs": [
    {
     "name": "stdout",
     "output_type": "stream",
     "text": [
      "\u001b[1m1/1\u001b[0m \u001b[32m━━━━━━━━━━━━━━━━━━━━\u001b[0m\u001b[37m\u001b[0m \u001b[1m0s\u001b[0m 62ms/step\n",
      "[[17.823065]]\n"
     ]
    }
   ],
   "source": [
    "x_input = np.array([[9]])  # shape (1, 1)\n",
    "prediction = model.predict(x_input)\n",
    "print(prediction)"
   ]
  },
  {
   "cell_type": "code",
   "execution_count": 164,
   "id": "e1045eb2",
   "metadata": {},
   "outputs": [],
   "source": [
    "data='help'"
   ]
  },
  {
   "cell_type": "code",
   "execution_count": 165,
   "id": "39a4bf38",
   "metadata": {},
   "outputs": [],
   "source": [
    "char2idx={'h':0,'e':1,'l':2,'p':3}"
   ]
  },
  {
   "cell_type": "code",
   "execution_count": 166,
   "id": "8e96a40c",
   "metadata": {},
   "outputs": [],
   "source": [
    "idxtoxhar={v:k for k,v in char2idx.items()}"
   ]
  },
  {
   "cell_type": "code",
   "execution_count": 167,
   "id": "fcf9515b",
   "metadata": {},
   "outputs": [
    {
     "data": {
      "text/plain": [
       "{0: 'h', 1: 'e', 2: 'l', 3: 'p'}"
      ]
     },
     "execution_count": 167,
     "metadata": {},
     "output_type": "execute_result"
    }
   ],
   "source": [
    "idxtoxhar"
   ]
  },
  {
   "cell_type": "code",
   "execution_count": 171,
   "id": "811a6b19",
   "metadata": {},
   "outputs": [],
   "source": [
    "input_seq = [char2idx[c] for c in data[:-1]]\n",
    "target_seq=[char2idx[c] for c in data[1:]]"
   ]
  },
  {
   "cell_type": "code",
   "execution_count": 172,
   "id": "d7058601",
   "metadata": {},
   "outputs": [
    {
     "data": {
      "text/plain": [
       "[1, 2, 3]"
      ]
     },
     "execution_count": 172,
     "metadata": {},
     "output_type": "execute_result"
    }
   ],
   "source": [
    "target_seq"
   ]
  },
  {
   "cell_type": "code",
   "execution_count": 174,
   "id": "bc1a5eb0",
   "metadata": {},
   "outputs": [],
   "source": [
    "x=tf.one_hot(input_seq,depth=4)\n",
    "x=tf.expand_dims(x,axis=0)\n",
    "y=tf.expand_dims(target_seq,axis=0)"
   ]
  },
  {
   "cell_type": "code",
   "execution_count": 175,
   "id": "3c943c67",
   "metadata": {},
   "outputs": [
    {
     "data": {
      "text/plain": [
       "<tf.Tensor: shape=(1, 3, 4), dtype=float32, numpy=\n",
       "array([[[1., 0., 0., 0.],\n",
       "        [0., 1., 0., 0.],\n",
       "        [0., 0., 1., 0.]]], dtype=float32)>"
      ]
     },
     "execution_count": 175,
     "metadata": {},
     "output_type": "execute_result"
    }
   ],
   "source": [
    "x"
   ]
  },
  {
   "cell_type": "code",
   "execution_count": 176,
   "id": "26830c51",
   "metadata": {},
   "outputs": [
    {
     "data": {
      "text/plain": [
       "<tf.Tensor: shape=(1, 3), dtype=int32, numpy=array([[1, 2, 3]])>"
      ]
     },
     "execution_count": 176,
     "metadata": {},
     "output_type": "execute_result"
    }
   ],
   "source": [
    "y"
   ]
  },
  {
   "cell_type": "code",
   "execution_count": 183,
   "id": "f78e5563",
   "metadata": {},
   "outputs": [
    {
     "name": "stderr",
     "output_type": "stream",
     "text": [
      "C:\\Users\\HP\\AppData\\Roaming\\Python\\Python312\\site-packages\\keras\\src\\layers\\rnn\\rnn.py:204: UserWarning: Do not pass an `input_shape`/`input_dim` argument to a layer. When using Sequential models, prefer using an `Input(shape)` object as the first layer in the model instead.\n",
      "  super().__init__(**kwargs)\n"
     ]
    }
   ],
   "source": [
    "model=tf.keras.Sequential([tf.keras.layers.LSTM(8,return_sequences=True, input_shape=(3,4)),\n",
    "                     tf.keras.layers.Dense(4,activation='linear')])"
   ]
  },
  {
   "cell_type": "code",
   "execution_count": 185,
   "id": "9f2ba762",
   "metadata": {},
   "outputs": [],
   "source": [
    "model.compile(optimizer='adam',loss=tf.keras.losses.SparseCategoricalCrossentropy(from_logits=True))"
   ]
  },
  {
   "cell_type": "code",
   "execution_count": 188,
   "id": "549ce7b5",
   "metadata": {},
   "outputs": [
    {
     "name": "stdout",
     "output_type": "stream",
     "text": [
      "tf.Tensor(\n",
      "[[[-0.53645873  0.73876595  0.25774828 -0.30751133]\n",
      "  [-1.4413244  -0.192503    1.2563277   0.1151332 ]\n",
      "  [-1.7203557  -1.0149704   0.52113056  2.1453185 ]]], shape=(1, 3, 4), dtype=float32)\n",
      "epoch: 0, prediction: elp, loss:5.823832244906861e-07\n",
      "tf.Tensor(\n",
      "[[[-0.6539227   1.0225192   0.25680536 -0.53429466]\n",
      "  [-1.7085444  -0.17389193  1.7319665  -0.06218081]\n",
      "  [-1.7527261  -1.206457    0.5067114   2.7011714 ]]], shape=(1, 3, 4), dtype=float32)\n",
      "epoch: 50, prediction: elp, loss:5.823832244906861e-07\n",
      "tf.Tensor(\n",
      "[[[-0.7657511   1.2974819   0.20653388 -0.7319976 ]\n",
      "  [-1.9145019  -0.15759906  2.1666298  -0.24616948]\n",
      "  [-1.6242427  -1.2966118   0.43755656  3.1594195 ]]], shape=(1, 3, 4), dtype=float32)\n",
      "epoch: 100, prediction: elp, loss:5.823832244906861e-07\n",
      "tf.Tensor(\n",
      "[[[-0.86828285  1.5479963   0.12892698 -0.89299375]\n",
      "  [-2.0713167  -0.14072403  2.526301   -0.40746352]\n",
      "  [-1.4864782  -1.3768334   0.3711684   3.4968095 ]]], shape=(1, 3, 4), dtype=float32)\n",
      "epoch: 150, prediction: elp, loss:5.823832244906861e-07\n",
      "tf.Tensor(\n",
      "[[[-0.96131223  1.7689942   0.04480344 -1.0238582 ]\n",
      "  [-2.193218   -0.12876302  2.8161793  -0.5377599 ]\n",
      "  [-1.3675535  -1.4604926   0.3158284   3.7504842 ]]], shape=(1, 3, 4), dtype=float32)\n",
      "epoch: 200, prediction: elp, loss:5.823832244906861e-07\n"
     ]
    }
   ],
   "source": [
    "for epoch in range(201):\n",
    "    model.train_on_batch(x,y)\n",
    "    \n",
    "    if epoch % 50 ==0:\n",
    "        output=model(x)\n",
    "        print(output)\n",
    "        pred=tf.argmax(output,axis=-1).numpy()[0]\n",
    "        pred_char=\"\".join([idxtoxhar[i] for i in pred])\n",
    "        print(f\"epoch: {epoch}, prediction: {pred_char}, loss:{loss}\")"
   ]
  },
  {
   "cell_type": "code",
   "execution_count": null,
   "id": "2b9a83b5",
   "metadata": {},
   "outputs": [],
   "source": []
  }
 ],
 "metadata": {
  "kernelspec": {
   "display_name": "Python 3",
   "language": "python",
   "name": "python3"
  },
  "language_info": {
   "codemirror_mode": {
    "name": "ipython",
    "version": 3
   },
   "file_extension": ".py",
   "mimetype": "text/x-python",
   "name": "python",
   "nbconvert_exporter": "python",
   "pygments_lexer": "ipython3",
   "version": "3.12.4"
  }
 },
 "nbformat": 4,
 "nbformat_minor": 5
}
